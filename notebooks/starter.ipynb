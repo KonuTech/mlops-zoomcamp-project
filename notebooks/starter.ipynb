{
 "cells": [
  {
   "cell_type": "code",
   "execution_count": 1,
   "id": "2c51efaa",
   "metadata": {},
   "outputs": [
    {
     "name": "stdout",
     "output_type": "stream",
     "text": [
      "scikit-learn==1.2.2\r\n"
     ]
    }
   ],
   "source": [
    "!pip freeze | grep scikit-learn"
   ]
  },
  {
   "cell_type": "code",
   "execution_count": 3,
   "id": "6a17a8fe",
   "metadata": {},
   "outputs": [],
   "source": [
    "import os"
   ]
  },
  {
   "cell_type": "code",
   "execution_count": 4,
   "id": "a2b1404f",
   "metadata": {},
   "outputs": [],
   "source": [
    "import uuid"
   ]
  },
  {
   "cell_type": "code",
   "execution_count": 5,
   "id": "0ef880a0",
   "metadata": {},
   "outputs": [],
   "source": [
    "import pickle\n",
    "import pandas as pd"
   ]
  },
  {
   "cell_type": "code",
   "execution_count": 5,
   "id": "6f121376",
   "metadata": {},
   "outputs": [],
   "source": [
    "from sklearn.feature_extraction import DictVectorizer"
   ]
  },
  {
   "cell_type": "code",
   "execution_count": 6,
   "id": "0e3336a4",
   "metadata": {},
   "outputs": [],
   "source": [
    "import mlflow"
   ]
  },
  {
   "cell_type": "code",
   "execution_count": 7,
   "id": "c8365e5a",
   "metadata": {},
   "outputs": [],
   "source": [
    "# import xgboost as xgb"
   ]
  },
  {
   "cell_type": "code",
   "execution_count": 8,
   "id": "251a7299",
   "metadata": {},
   "outputs": [],
   "source": [
    "# from google.cloud import storage"
   ]
  },
  {
   "cell_type": "code",
   "execution_count": 9,
   "id": "2635b2e4",
   "metadata": {},
   "outputs": [],
   "source": [
    "# def download_directory(bucket_name, directory_path, destination_path):\n",
    "#     storage_client = storage.Client()\n",
    "#     bucket = storage_client.bucket(bucket_name)\n",
    "\n",
    "#     blobs = bucket.list_blobs(prefix=directory_path)\n",
    "\n",
    "#     for blob in blobs:\n",
    "#         # Extract the relative path from the blob's name\n",
    "#         relative_path = os.path.relpath(blob.name, directory_path)\n",
    "\n",
    "#         # Create the destination directory if it doesn't exist\n",
    "#         dest_directory = os.path.join(destination_path, os.path.dirname(relative_path))\n",
    "#         os.makedirs(dest_directory, exist_ok=True)\n",
    "\n",
    "#         # Download the blob to the destination directory\n",
    "#         destination_file = os.path.join(dest_directory, os.path.basename(relative_path))\n",
    "#         blob.download_to_filename(destination_file)\n",
    "\n",
    "#     print(\"Directory downloaded successfully.\")\n",
    "\n"
   ]
  },
  {
   "cell_type": "code",
   "execution_count": 10,
   "id": "388574a5",
   "metadata": {},
   "outputs": [],
   "source": [
    "# bucket_name='mlops-zoomcamp'"
   ]
  },
  {
   "cell_type": "code",
   "execution_count": 11,
   "id": "044c1880",
   "metadata": {},
   "outputs": [],
   "source": [
    "# directory_path='2/45e0e8d445544eef87226b6cbbf1921f/artifacts/models_mlflow/'"
   ]
  },
  {
   "cell_type": "code",
   "execution_count": 12,
   "id": "b3a426bc",
   "metadata": {},
   "outputs": [],
   "source": [
    "# destination_path=\"/home/konradballegro/notebooks/inputs/45e0e8d445544eef87226b6cbbf1921f\""
   ]
  },
  {
   "cell_type": "code",
   "execution_count": 13,
   "id": "9adbf4a6",
   "metadata": {},
   "outputs": [],
   "source": [
    "# download_directory(bucket_name, directory_path, destination_path)"
   ]
  },
  {
   "cell_type": "code",
   "execution_count": 14,
   "id": "9ab890a4",
   "metadata": {},
   "outputs": [],
   "source": [
    "# def download_model(bucket_name, artifact_path, destination_path):\n",
    "#     storage_client = storage.Client()\n",
    "#     bucket = storage_client.bucket(bucket_name)\n",
    "#     blob = bucket.blob(artifact_path)\n",
    "#     blob.download_to_filename(destination_path)"
   ]
  },
  {
   "cell_type": "code",
   "execution_count": 15,
   "id": "a5f39eaf",
   "metadata": {},
   "outputs": [],
   "source": [
    "# download_model(\n",
    "#         bucket_name='mlops-zoomcamp',\n",
    "#         artifact_path='data/green_tripdata_2021-02.parquet',\n",
    "#         destination_path=\"/home/konradballegro/notebooks/inputs/model.xgb\"\n",
    "#         )"
   ]
  },
  {
   "cell_type": "code",
   "execution_count": 16,
   "id": "7836ccfd",
   "metadata": {},
   "outputs": [],
   "source": [
    "with open('/home/konradballegro/notebooks/inputs/model.bin', 'rb') as f_in:\n",
    "    dv, model = pickle.load(f_in)"
   ]
  },
  {
   "cell_type": "code",
   "execution_count": 17,
   "id": "8b0961bb",
   "metadata": {},
   "outputs": [
    {
     "data": {
      "text/html": [
       "<style>#sk-container-id-1 {color: black;background-color: white;}#sk-container-id-1 pre{padding: 0;}#sk-container-id-1 div.sk-toggleable {background-color: white;}#sk-container-id-1 label.sk-toggleable__label {cursor: pointer;display: block;width: 100%;margin-bottom: 0;padding: 0.3em;box-sizing: border-box;text-align: center;}#sk-container-id-1 label.sk-toggleable__label-arrow:before {content: \"▸\";float: left;margin-right: 0.25em;color: #696969;}#sk-container-id-1 label.sk-toggleable__label-arrow:hover:before {color: black;}#sk-container-id-1 div.sk-estimator:hover label.sk-toggleable__label-arrow:before {color: black;}#sk-container-id-1 div.sk-toggleable__content {max-height: 0;max-width: 0;overflow: hidden;text-align: left;background-color: #f0f8ff;}#sk-container-id-1 div.sk-toggleable__content pre {margin: 0.2em;color: black;border-radius: 0.25em;background-color: #f0f8ff;}#sk-container-id-1 input.sk-toggleable__control:checked~div.sk-toggleable__content {max-height: 200px;max-width: 100%;overflow: auto;}#sk-container-id-1 input.sk-toggleable__control:checked~label.sk-toggleable__label-arrow:before {content: \"▾\";}#sk-container-id-1 div.sk-estimator input.sk-toggleable__control:checked~label.sk-toggleable__label {background-color: #d4ebff;}#sk-container-id-1 div.sk-label input.sk-toggleable__control:checked~label.sk-toggleable__label {background-color: #d4ebff;}#sk-container-id-1 input.sk-hidden--visually {border: 0;clip: rect(1px 1px 1px 1px);clip: rect(1px, 1px, 1px, 1px);height: 1px;margin: -1px;overflow: hidden;padding: 0;position: absolute;width: 1px;}#sk-container-id-1 div.sk-estimator {font-family: monospace;background-color: #f0f8ff;border: 1px dotted black;border-radius: 0.25em;box-sizing: border-box;margin-bottom: 0.5em;}#sk-container-id-1 div.sk-estimator:hover {background-color: #d4ebff;}#sk-container-id-1 div.sk-parallel-item::after {content: \"\";width: 100%;border-bottom: 1px solid gray;flex-grow: 1;}#sk-container-id-1 div.sk-label:hover label.sk-toggleable__label {background-color: #d4ebff;}#sk-container-id-1 div.sk-serial::before {content: \"\";position: absolute;border-left: 1px solid gray;box-sizing: border-box;top: 0;bottom: 0;left: 50%;z-index: 0;}#sk-container-id-1 div.sk-serial {display: flex;flex-direction: column;align-items: center;background-color: white;padding-right: 0.2em;padding-left: 0.2em;position: relative;}#sk-container-id-1 div.sk-item {position: relative;z-index: 1;}#sk-container-id-1 div.sk-parallel {display: flex;align-items: stretch;justify-content: center;background-color: white;position: relative;}#sk-container-id-1 div.sk-item::before, #sk-container-id-1 div.sk-parallel-item::before {content: \"\";position: absolute;border-left: 1px solid gray;box-sizing: border-box;top: 0;bottom: 0;left: 50%;z-index: -1;}#sk-container-id-1 div.sk-parallel-item {display: flex;flex-direction: column;z-index: 1;position: relative;background-color: white;}#sk-container-id-1 div.sk-parallel-item:first-child::after {align-self: flex-end;width: 50%;}#sk-container-id-1 div.sk-parallel-item:last-child::after {align-self: flex-start;width: 50%;}#sk-container-id-1 div.sk-parallel-item:only-child::after {width: 0;}#sk-container-id-1 div.sk-dashed-wrapped {border: 1px dashed gray;margin: 0 0.4em 0.5em 0.4em;box-sizing: border-box;padding-bottom: 0.4em;background-color: white;}#sk-container-id-1 div.sk-label label {font-family: monospace;font-weight: bold;display: inline-block;line-height: 1.2em;}#sk-container-id-1 div.sk-label-container {text-align: center;}#sk-container-id-1 div.sk-container {/* jupyter's `normalize.less` sets `[hidden] { display: none; }` but bootstrap.min.css set `[hidden] { display: none !important; }` so we also need the `!important` here to be able to override the default hidden behavior on the sphinx rendered scikit-learn.org. See: https://github.com/scikit-learn/scikit-learn/issues/21755 */display: inline-block !important;position: relative;}#sk-container-id-1 div.sk-text-repr-fallback {display: none;}</style><div id=\"sk-container-id-1\" class=\"sk-top-container\"><div class=\"sk-text-repr-fallback\"><pre>DictVectorizer()</pre><b>In a Jupyter environment, please rerun this cell to show the HTML representation or trust the notebook. <br />On GitHub, the HTML representation is unable to render, please try loading this page with nbviewer.org.</b></div><div class=\"sk-container\" hidden><div class=\"sk-item\"><div class=\"sk-estimator sk-toggleable\"><input class=\"sk-toggleable__control sk-hidden--visually\" id=\"sk-estimator-id-1\" type=\"checkbox\" checked><label for=\"sk-estimator-id-1\" class=\"sk-toggleable__label sk-toggleable__label-arrow\">DictVectorizer</label><div class=\"sk-toggleable__content\"><pre>DictVectorizer()</pre></div></div></div></div></div>"
      ],
      "text/plain": [
       "DictVectorizer()"
      ]
     },
     "execution_count": 17,
     "metadata": {},
     "output_type": "execute_result"
    }
   ],
   "source": [
    "dv"
   ]
  },
  {
   "cell_type": "code",
   "execution_count": 18,
   "id": "5be3450b",
   "metadata": {},
   "outputs": [
    {
     "data": {
      "text/html": [
       "<style>#sk-container-id-2 {color: black;background-color: white;}#sk-container-id-2 pre{padding: 0;}#sk-container-id-2 div.sk-toggleable {background-color: white;}#sk-container-id-2 label.sk-toggleable__label {cursor: pointer;display: block;width: 100%;margin-bottom: 0;padding: 0.3em;box-sizing: border-box;text-align: center;}#sk-container-id-2 label.sk-toggleable__label-arrow:before {content: \"▸\";float: left;margin-right: 0.25em;color: #696969;}#sk-container-id-2 label.sk-toggleable__label-arrow:hover:before {color: black;}#sk-container-id-2 div.sk-estimator:hover label.sk-toggleable__label-arrow:before {color: black;}#sk-container-id-2 div.sk-toggleable__content {max-height: 0;max-width: 0;overflow: hidden;text-align: left;background-color: #f0f8ff;}#sk-container-id-2 div.sk-toggleable__content pre {margin: 0.2em;color: black;border-radius: 0.25em;background-color: #f0f8ff;}#sk-container-id-2 input.sk-toggleable__control:checked~div.sk-toggleable__content {max-height: 200px;max-width: 100%;overflow: auto;}#sk-container-id-2 input.sk-toggleable__control:checked~label.sk-toggleable__label-arrow:before {content: \"▾\";}#sk-container-id-2 div.sk-estimator input.sk-toggleable__control:checked~label.sk-toggleable__label {background-color: #d4ebff;}#sk-container-id-2 div.sk-label input.sk-toggleable__control:checked~label.sk-toggleable__label {background-color: #d4ebff;}#sk-container-id-2 input.sk-hidden--visually {border: 0;clip: rect(1px 1px 1px 1px);clip: rect(1px, 1px, 1px, 1px);height: 1px;margin: -1px;overflow: hidden;padding: 0;position: absolute;width: 1px;}#sk-container-id-2 div.sk-estimator {font-family: monospace;background-color: #f0f8ff;border: 1px dotted black;border-radius: 0.25em;box-sizing: border-box;margin-bottom: 0.5em;}#sk-container-id-2 div.sk-estimator:hover {background-color: #d4ebff;}#sk-container-id-2 div.sk-parallel-item::after {content: \"\";width: 100%;border-bottom: 1px solid gray;flex-grow: 1;}#sk-container-id-2 div.sk-label:hover label.sk-toggleable__label {background-color: #d4ebff;}#sk-container-id-2 div.sk-serial::before {content: \"\";position: absolute;border-left: 1px solid gray;box-sizing: border-box;top: 0;bottom: 0;left: 50%;z-index: 0;}#sk-container-id-2 div.sk-serial {display: flex;flex-direction: column;align-items: center;background-color: white;padding-right: 0.2em;padding-left: 0.2em;position: relative;}#sk-container-id-2 div.sk-item {position: relative;z-index: 1;}#sk-container-id-2 div.sk-parallel {display: flex;align-items: stretch;justify-content: center;background-color: white;position: relative;}#sk-container-id-2 div.sk-item::before, #sk-container-id-2 div.sk-parallel-item::before {content: \"\";position: absolute;border-left: 1px solid gray;box-sizing: border-box;top: 0;bottom: 0;left: 50%;z-index: -1;}#sk-container-id-2 div.sk-parallel-item {display: flex;flex-direction: column;z-index: 1;position: relative;background-color: white;}#sk-container-id-2 div.sk-parallel-item:first-child::after {align-self: flex-end;width: 50%;}#sk-container-id-2 div.sk-parallel-item:last-child::after {align-self: flex-start;width: 50%;}#sk-container-id-2 div.sk-parallel-item:only-child::after {width: 0;}#sk-container-id-2 div.sk-dashed-wrapped {border: 1px dashed gray;margin: 0 0.4em 0.5em 0.4em;box-sizing: border-box;padding-bottom: 0.4em;background-color: white;}#sk-container-id-2 div.sk-label label {font-family: monospace;font-weight: bold;display: inline-block;line-height: 1.2em;}#sk-container-id-2 div.sk-label-container {text-align: center;}#sk-container-id-2 div.sk-container {/* jupyter's `normalize.less` sets `[hidden] { display: none; }` but bootstrap.min.css set `[hidden] { display: none !important; }` so we also need the `!important` here to be able to override the default hidden behavior on the sphinx rendered scikit-learn.org. See: https://github.com/scikit-learn/scikit-learn/issues/21755 */display: inline-block !important;position: relative;}#sk-container-id-2 div.sk-text-repr-fallback {display: none;}</style><div id=\"sk-container-id-2\" class=\"sk-top-container\"><div class=\"sk-text-repr-fallback\"><pre>LinearRegression()</pre><b>In a Jupyter environment, please rerun this cell to show the HTML representation or trust the notebook. <br />On GitHub, the HTML representation is unable to render, please try loading this page with nbviewer.org.</b></div><div class=\"sk-container\" hidden><div class=\"sk-item\"><div class=\"sk-estimator sk-toggleable\"><input class=\"sk-toggleable__control sk-hidden--visually\" id=\"sk-estimator-id-2\" type=\"checkbox\" checked><label for=\"sk-estimator-id-2\" class=\"sk-toggleable__label sk-toggleable__label-arrow\">LinearRegression</label><div class=\"sk-toggleable__content\"><pre>LinearRegression()</pre></div></div></div></div></div>"
      ],
      "text/plain": [
       "LinearRegression()"
      ]
     },
     "execution_count": 18,
     "metadata": {},
     "output_type": "execute_result"
    }
   ],
   "source": [
    "model"
   ]
  },
  {
   "cell_type": "code",
   "execution_count": 19,
   "id": "1d509e7b",
   "metadata": {},
   "outputs": [],
   "source": [
    "categorical = ['PULocationID', 'DOLocationID']"
   ]
  },
  {
   "cell_type": "code",
   "execution_count": 20,
   "id": "41c08294",
   "metadata": {},
   "outputs": [],
   "source": [
    "def read_data(filename):\n",
    "    df = pd.read_parquet(filename)\n",
    "    \n",
    "    df['duration'] = df.tpep_dropoff_datetime - df.tpep_pickup_datetime\n",
    "    df['duration'] = df.duration.dt.total_seconds() / 60\n",
    "\n",
    "    df = df[(df.duration >= 1) & (df.duration <= 60)].copy()\n",
    "\n",
    "    df[categorical] = df[categorical].fillna(-1).astype('int').astype('str')\n",
    "    \n",
    "    return df"
   ]
  },
  {
   "cell_type": "code",
   "execution_count": 21,
   "id": "4854399a",
   "metadata": {},
   "outputs": [],
   "source": [
    "# df = read_data('https://d37ci6vzurychx.cloudfront.net/trip-data/yellow_tripdata_2022-03.parquet')"
   ]
  },
  {
   "cell_type": "code",
   "execution_count": 22,
   "id": "66418b49",
   "metadata": {},
   "outputs": [],
   "source": [
    "# df.info()"
   ]
  },
  {
   "cell_type": "code",
   "execution_count": 23,
   "id": "6ec2c82d",
   "metadata": {},
   "outputs": [],
   "source": [
    "RUN_ID='8e35278e4321423d8029f87ec106243f'"
   ]
  },
  {
   "cell_type": "code",
   "execution_count": 24,
   "id": "72976d52",
   "metadata": {},
   "outputs": [],
   "source": [
    "input_file='https://d37ci6vzurychx.cloudfront.net/trip-data/yellow_tripdata_2022-04.parquet'"
   ]
  },
  {
   "cell_type": "code",
   "execution_count": 25,
   "id": "866cfb63",
   "metadata": {},
   "outputs": [],
   "source": [
    "output_file='/home/konradballegro/notebooks/outputs/prediction.parquet'"
   ]
  },
  {
   "cell_type": "code",
   "execution_count": 26,
   "id": "e71045e8",
   "metadata": {},
   "outputs": [],
   "source": [
    "def generate_uuids(n):\n",
    "    ride_ids = []\n",
    "    for i in range(n):\n",
    "        ride_ids.append(str(uuid.uuid4()))\n",
    "    return ride_ids"
   ]
  },
  {
   "cell_type": "code",
   "execution_count": 27,
   "id": "c0c3c819",
   "metadata": {},
   "outputs": [],
   "source": [
    "def read_dataframe(filename: str):\n",
    "    df = pd.read_parquet(filename)\n",
    "\n",
    "    df['duration'] = df.tpep_dropoff_datetime - df.tpep_pickup_datetime\n",
    "    df.duration = df.duration.dt.total_seconds() / 60\n",
    "    df = df[(df.duration >= 1) & (df.duration <= 60)]\n",
    "    \n",
    "    df['ride_id'] = generate_uuids(len(df))\n",
    "\n",
    "    return df"
   ]
  },
  {
   "cell_type": "code",
   "execution_count": 28,
   "id": "b4335575",
   "metadata": {},
   "outputs": [],
   "source": [
    "def prepare_dictionaries(df: pd.DataFrame):\n",
    "    categorical = ['PULocationID', 'DOLocationID']\n",
    "    df[categorical] = df[categorical].astype(str)\n",
    "    \n",
    "    df['PU_DO'] = df['PULocationID'] + '_' + df['DOLocationID']\n",
    "\n",
    "    categorical = ['PU_DO']\n",
    "    numerical = ['trip_distance']\n",
    "#     dicts = df[categorical + numerical].to_dict(orient='records')\n",
    "    dicts = df[categorical].to_dict(orient='records')\n",
    "    dicts = dv.transform(dicts)\n",
    "    \n",
    "    return dicts"
   ]
  },
  {
   "cell_type": "code",
   "execution_count": 29,
   "id": "438cd08d",
   "metadata": {},
   "outputs": [],
   "source": [
    "# def load_model(run_id):\n",
    "#     model=mlflow.pyfunc.load_model('/home/konradballegro/notebooks/inputs/45e0e8d445544eef87226b6cbbf1921f/')\n",
    "#     return model"
   ]
  },
  {
   "cell_type": "code",
   "execution_count": 30,
   "id": "ec9cae3d",
   "metadata": {},
   "outputs": [],
   "source": [
    "def apply_model(input_file, run_id, output_file):\n",
    "\n",
    "    df = read_dataframe(input_file)\n",
    "    print('df read')\n",
    "    dicts = prepare_dictionaries(df)\n",
    "    print('dicts prepared')\n",
    "    \n",
    "#     model = load_model(run_id)\n",
    "#     print('model loaded')\n",
    "    y_pred = model.predict(dicts)\n",
    "    print('predictions made')\n",
    "    df_result = pd.DataFrame()\n",
    "    df_result['ride_id'] = df['ride_id']\n",
    "    df_result['tpep_pickup_datetime'] = df['tpep_pickup_datetime']\n",
    "    df_result['PULocationID'] = df['PULocationID']\n",
    "    df_result['DOLocationID'] = df['DOLocationID']\n",
    "    df_result['actual_duration'] = df['duration']\n",
    "    df_result['predicted_duration'] = y_pred\n",
    "    df_result['diff'] = df_result['actual_duration'] - df_result['predicted_duration']\n",
    "    df_result['model_version'] = run_id\n",
    "    \n",
    "    df_result.to_parquet(output_file, index=False)\n",
    "    print('predictions saved')"
   ]
  },
  {
   "cell_type": "code",
   "execution_count": 31,
   "id": "e3687116",
   "metadata": {
    "scrolled": false
   },
   "outputs": [
    {
     "name": "stdout",
     "output_type": "stream",
     "text": [
      "df read\n",
      "dicts prepared\n",
      "predictions made\n",
      "predictions saved\n"
     ]
    }
   ],
   "source": [
    "apply_model(input_file=input_file, run_id=RUN_ID, output_file=output_file)"
   ]
  },
  {
   "cell_type": "code",
   "execution_count": 32,
   "id": "b729abab",
   "metadata": {},
   "outputs": [],
   "source": [
    "predictions = pd.read_parquet(output_file)"
   ]
  },
  {
   "cell_type": "code",
   "execution_count": 33,
   "id": "e05c27e0",
   "metadata": {
    "scrolled": false
   },
   "outputs": [
    {
     "data": {
      "text/html": [
       "<div>\n",
       "<style scoped>\n",
       "    .dataframe tbody tr th:only-of-type {\n",
       "        vertical-align: middle;\n",
       "    }\n",
       "\n",
       "    .dataframe tbody tr th {\n",
       "        vertical-align: top;\n",
       "    }\n",
       "\n",
       "    .dataframe thead th {\n",
       "        text-align: right;\n",
       "    }\n",
       "</style>\n",
       "<table border=\"1\" class=\"dataframe\">\n",
       "  <thead>\n",
       "    <tr style=\"text-align: right;\">\n",
       "      <th></th>\n",
       "      <th>ride_id</th>\n",
       "      <th>tpep_pickup_datetime</th>\n",
       "      <th>PULocationID</th>\n",
       "      <th>DOLocationID</th>\n",
       "      <th>actual_duration</th>\n",
       "      <th>predicted_duration</th>\n",
       "      <th>diff</th>\n",
       "      <th>model_version</th>\n",
       "    </tr>\n",
       "  </thead>\n",
       "  <tbody>\n",
       "    <tr>\n",
       "      <th>0</th>\n",
       "      <td>6e2d1652-e05d-4eda-b552-83edb6557bea</td>\n",
       "      <td>2022-04-01 00:21:13</td>\n",
       "      <td>163</td>\n",
       "      <td>62</td>\n",
       "      <td>37.333333</td>\n",
       "      <td>24.781802</td>\n",
       "      <td>12.551531</td>\n",
       "      <td>8e35278e4321423d8029f87ec106243f</td>\n",
       "    </tr>\n",
       "    <tr>\n",
       "      <th>1</th>\n",
       "      <td>8befd736-9a6c-4790-8a63-332499bfd9a7</td>\n",
       "      <td>2022-04-01 00:07:47</td>\n",
       "      <td>142</td>\n",
       "      <td>141</td>\n",
       "      <td>11.416667</td>\n",
       "      <td>24.781802</td>\n",
       "      <td>-13.365136</td>\n",
       "      <td>8e35278e4321423d8029f87ec106243f</td>\n",
       "    </tr>\n",
       "    <tr>\n",
       "      <th>2</th>\n",
       "      <td>fadcdedf-0675-4848-8e67-a9e5cd67fb2f</td>\n",
       "      <td>2022-04-01 00:14:52</td>\n",
       "      <td>79</td>\n",
       "      <td>148</td>\n",
       "      <td>8.850000</td>\n",
       "      <td>24.781802</td>\n",
       "      <td>-15.931802</td>\n",
       "      <td>8e35278e4321423d8029f87ec106243f</td>\n",
       "    </tr>\n",
       "    <tr>\n",
       "      <th>3</th>\n",
       "      <td>8a221402-ef4c-4638-b006-c36d1169034d</td>\n",
       "      <td>2022-04-01 00:30:02</td>\n",
       "      <td>79</td>\n",
       "      <td>13</td>\n",
       "      <td>15.066667</td>\n",
       "      <td>24.781802</td>\n",
       "      <td>-9.715136</td>\n",
       "      <td>8e35278e4321423d8029f87ec106243f</td>\n",
       "    </tr>\n",
       "    <tr>\n",
       "      <th>4</th>\n",
       "      <td>b1f6d499-f0f4-4809-ba24-bd4f827dacb6</td>\n",
       "      <td>2022-04-01 00:48:40</td>\n",
       "      <td>238</td>\n",
       "      <td>116</td>\n",
       "      <td>14.900000</td>\n",
       "      <td>24.781802</td>\n",
       "      <td>-9.881802</td>\n",
       "      <td>8e35278e4321423d8029f87ec106243f</td>\n",
       "    </tr>\n",
       "    <tr>\n",
       "      <th>...</th>\n",
       "      <td>...</td>\n",
       "      <td>...</td>\n",
       "      <td>...</td>\n",
       "      <td>...</td>\n",
       "      <td>...</td>\n",
       "      <td>...</td>\n",
       "      <td>...</td>\n",
       "      <td>...</td>\n",
       "    </tr>\n",
       "    <tr>\n",
       "      <th>3501815</th>\n",
       "      <td>7ec3063c-738f-4c77-b301-cef8cec68be3</td>\n",
       "      <td>2022-04-30 23:10:00</td>\n",
       "      <td>80</td>\n",
       "      <td>82</td>\n",
       "      <td>18.000000</td>\n",
       "      <td>24.781802</td>\n",
       "      <td>-6.781802</td>\n",
       "      <td>8e35278e4321423d8029f87ec106243f</td>\n",
       "    </tr>\n",
       "    <tr>\n",
       "      <th>3501816</th>\n",
       "      <td>d185439c-6a65-495e-9022-b1629e0769a7</td>\n",
       "      <td>2022-04-30 23:28:59</td>\n",
       "      <td>48</td>\n",
       "      <td>264</td>\n",
       "      <td>17.650000</td>\n",
       "      <td>24.781802</td>\n",
       "      <td>-7.131802</td>\n",
       "      <td>8e35278e4321423d8029f87ec106243f</td>\n",
       "    </tr>\n",
       "    <tr>\n",
       "      <th>3501817</th>\n",
       "      <td>5d653ec1-7217-4d02-9f5c-3ea06f9b07f4</td>\n",
       "      <td>2022-04-30 23:27:25</td>\n",
       "      <td>137</td>\n",
       "      <td>143</td>\n",
       "      <td>17.583333</td>\n",
       "      <td>24.781802</td>\n",
       "      <td>-7.198469</td>\n",
       "      <td>8e35278e4321423d8029f87ec106243f</td>\n",
       "    </tr>\n",
       "    <tr>\n",
       "      <th>3501818</th>\n",
       "      <td>f6b657f5-dcd3-430b-a3f1-0708d606b712</td>\n",
       "      <td>2022-04-30 23:24:26</td>\n",
       "      <td>141</td>\n",
       "      <td>112</td>\n",
       "      <td>19.316667</td>\n",
       "      <td>24.781802</td>\n",
       "      <td>-5.465136</td>\n",
       "      <td>8e35278e4321423d8029f87ec106243f</td>\n",
       "    </tr>\n",
       "    <tr>\n",
       "      <th>3501819</th>\n",
       "      <td>2b81682f-11dd-4821-ae23-c22952c7457c</td>\n",
       "      <td>2022-04-30 23:17:00</td>\n",
       "      <td>68</td>\n",
       "      <td>144</td>\n",
       "      <td>14.000000</td>\n",
       "      <td>24.781802</td>\n",
       "      <td>-10.781802</td>\n",
       "      <td>8e35278e4321423d8029f87ec106243f</td>\n",
       "    </tr>\n",
       "  </tbody>\n",
       "</table>\n",
       "<p>3501820 rows × 8 columns</p>\n",
       "</div>"
      ],
      "text/plain": [
       "                                      ride_id tpep_pickup_datetime  \\\n",
       "0        6e2d1652-e05d-4eda-b552-83edb6557bea  2022-04-01 00:21:13   \n",
       "1        8befd736-9a6c-4790-8a63-332499bfd9a7  2022-04-01 00:07:47   \n",
       "2        fadcdedf-0675-4848-8e67-a9e5cd67fb2f  2022-04-01 00:14:52   \n",
       "3        8a221402-ef4c-4638-b006-c36d1169034d  2022-04-01 00:30:02   \n",
       "4        b1f6d499-f0f4-4809-ba24-bd4f827dacb6  2022-04-01 00:48:40   \n",
       "...                                       ...                  ...   \n",
       "3501815  7ec3063c-738f-4c77-b301-cef8cec68be3  2022-04-30 23:10:00   \n",
       "3501816  d185439c-6a65-495e-9022-b1629e0769a7  2022-04-30 23:28:59   \n",
       "3501817  5d653ec1-7217-4d02-9f5c-3ea06f9b07f4  2022-04-30 23:27:25   \n",
       "3501818  f6b657f5-dcd3-430b-a3f1-0708d606b712  2022-04-30 23:24:26   \n",
       "3501819  2b81682f-11dd-4821-ae23-c22952c7457c  2022-04-30 23:17:00   \n",
       "\n",
       "        PULocationID DOLocationID  actual_duration  predicted_duration  \\\n",
       "0                163           62        37.333333           24.781802   \n",
       "1                142          141        11.416667           24.781802   \n",
       "2                 79          148         8.850000           24.781802   \n",
       "3                 79           13        15.066667           24.781802   \n",
       "4                238          116        14.900000           24.781802   \n",
       "...              ...          ...              ...                 ...   \n",
       "3501815           80           82        18.000000           24.781802   \n",
       "3501816           48          264        17.650000           24.781802   \n",
       "3501817          137          143        17.583333           24.781802   \n",
       "3501818          141          112        19.316667           24.781802   \n",
       "3501819           68          144        14.000000           24.781802   \n",
       "\n",
       "              diff                     model_version  \n",
       "0        12.551531  8e35278e4321423d8029f87ec106243f  \n",
       "1       -13.365136  8e35278e4321423d8029f87ec106243f  \n",
       "2       -15.931802  8e35278e4321423d8029f87ec106243f  \n",
       "3        -9.715136  8e35278e4321423d8029f87ec106243f  \n",
       "4        -9.881802  8e35278e4321423d8029f87ec106243f  \n",
       "...            ...                               ...  \n",
       "3501815  -6.781802  8e35278e4321423d8029f87ec106243f  \n",
       "3501816  -7.131802  8e35278e4321423d8029f87ec106243f  \n",
       "3501817  -7.198469  8e35278e4321423d8029f87ec106243f  \n",
       "3501818  -5.465136  8e35278e4321423d8029f87ec106243f  \n",
       "3501819 -10.781802  8e35278e4321423d8029f87ec106243f  \n",
       "\n",
       "[3501820 rows x 8 columns]"
      ]
     },
     "execution_count": 33,
     "metadata": {},
     "output_type": "execute_result"
    }
   ],
   "source": [
    "predictions"
   ]
  },
  {
   "cell_type": "code",
   "execution_count": 34,
   "id": "07c02665",
   "metadata": {},
   "outputs": [
    {
     "name": "stdout",
     "output_type": "stream",
     "text": [
      "Standard deviation of trip duration: 1.882938518615699e-13\n"
     ]
    }
   ],
   "source": [
    "duration_std = predictions['predicted_duration'].std()\n",
    "\n",
    "print(\"Standard deviation of trip duration:\", duration_std)"
   ]
  },
  {
   "cell_type": "code",
   "execution_count": 35,
   "id": "535e7521",
   "metadata": {},
   "outputs": [
    {
     "name": "stdout",
     "output_type": "stream",
     "text": [
      "Mean of trip duration: 24.7818021688019\n"
     ]
    }
   ],
   "source": [
    "duration_mean = predictions['predicted_duration'].mean()\n",
    "\n",
    "print(\"Mean of trip duration:\", duration_mean)"
   ]
  },
  {
   "cell_type": "code",
   "execution_count": null,
   "id": "9a0bfc9f",
   "metadata": {},
   "outputs": [],
   "source": []
  }
 ],
 "metadata": {
  "kernelspec": {
   "display_name": "Python 3 (ipykernel)",
   "language": "python",
   "name": "python3"
  },
  "language_info": {
   "codemirror_mode": {
    "name": "ipython",
    "version": 3
   },
   "file_extension": ".py",
   "mimetype": "text/x-python",
   "name": "python",
   "nbconvert_exporter": "python",
   "pygments_lexer": "ipython3",
   "version": "3.8.10"
  }
 },
 "nbformat": 4,
 "nbformat_minor": 5
}
