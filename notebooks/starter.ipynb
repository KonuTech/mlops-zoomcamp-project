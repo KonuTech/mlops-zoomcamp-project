{
 "cells": [
  {
   "cell_type": "code",
   "execution_count": 1,
   "id": "2c51efaa",
   "metadata": {},
   "outputs": [
    {
     "name": "stdout",
     "output_type": "stream",
     "text": [
      "scikit-learn==1.2.2\r\n"
     ]
    }
   ],
   "source": [
    "!pip freeze | grep scikit-learn"
   ]
  },
  {
   "cell_type": "code",
   "execution_count": 2,
   "id": "ac365a8f",
   "metadata": {},
   "outputs": [],
   "source": [
    "import os"
   ]
  },
  {
   "cell_type": "code",
   "execution_count": 3,
   "id": "a2b1404f",
   "metadata": {},
   "outputs": [],
   "source": [
    "import uuid"
   ]
  },
  {
   "cell_type": "code",
   "execution_count": 4,
   "id": "0ef880a0",
   "metadata": {},
   "outputs": [],
   "source": [
    "import pickle\n",
    "import pandas as pd"
   ]
  },
  {
   "cell_type": "code",
   "execution_count": 5,
   "id": "0e3336a4",
   "metadata": {},
   "outputs": [],
   "source": [
    "import mlflow"
   ]
  },
  {
   "cell_type": "code",
   "execution_count": 6,
   "id": "040f8134",
   "metadata": {},
   "outputs": [],
   "source": [
    "import xgboost as xgb"
   ]
  },
  {
   "cell_type": "code",
   "execution_count": 7,
   "id": "329f0fb6",
   "metadata": {},
   "outputs": [],
   "source": [
    "from google.cloud import storage"
   ]
  },
  {
   "cell_type": "code",
   "execution_count": 8,
   "id": "a62093d9",
   "metadata": {},
   "outputs": [],
   "source": [
    "def download_directory(bucket_name, directory_path, destination_path):\n",
    "    storage_client = storage.Client()\n",
    "    bucket = storage_client.bucket(bucket_name)\n",
    "\n",
    "    blobs = bucket.list_blobs(prefix=directory_path)\n",
    "\n",
    "    for blob in blobs:\n",
    "        # Extract the relative path from the blob's name\n",
    "        relative_path = os.path.relpath(blob.name, directory_path)\n",
    "\n",
    "        # Create the destination directory if it doesn't exist\n",
    "        dest_directory = os.path.join(destination_path, os.path.dirname(relative_path))\n",
    "        os.makedirs(dest_directory, exist_ok=True)\n",
    "\n",
    "        # Download the blob to the destination directory\n",
    "        destination_file = os.path.join(dest_directory, os.path.basename(relative_path))\n",
    "        blob.download_to_filename(destination_file)\n",
    "\n",
    "    print(\"Directory downloaded successfully.\")\n",
    "\n"
   ]
  },
  {
   "cell_type": "code",
   "execution_count": 9,
   "id": "42d3e098",
   "metadata": {},
   "outputs": [],
   "source": [
    "bucket_name='mlops-zoomcamp'"
   ]
  },
  {
   "cell_type": "code",
   "execution_count": 10,
   "id": "2a9a4098",
   "metadata": {},
   "outputs": [],
   "source": [
    "directory_path='2/45e0e8d445544eef87226b6cbbf1921f/artifacts/models_mlflow/'"
   ]
  },
  {
   "cell_type": "code",
   "execution_count": 11,
   "id": "c90e19e1",
   "metadata": {},
   "outputs": [],
   "source": [
    "destination_path=\"/home/konradballegro/notebooks/inputs/45e0e8d445544eef87226b6cbbf1921f\""
   ]
  },
  {
   "cell_type": "code",
   "execution_count": null,
   "id": "6545121b",
   "metadata": {},
   "outputs": [],
   "source": [
    "download_directory(bucket_name, directory_path, destination_path)"
   ]
  },
  {
   "cell_type": "code",
   "execution_count": null,
   "id": "d63b98d7",
   "metadata": {},
   "outputs": [],
   "source": [
    "# def download_model(bucket_name, artifact_path, destination_path):\n",
    "#     storage_client = storage.Client()\n",
    "#     bucket = storage_client.bucket(bucket_name)\n",
    "#     blob = bucket.blob(artifact_path)\n",
    "#     blob.download_to_filename(destination_path)"
   ]
  },
  {
   "cell_type": "code",
   "execution_count": null,
   "id": "79403377",
   "metadata": {},
   "outputs": [],
   "source": [
    "# download_model(\n",
    "#         bucket_name='mlops-zoomcamp',\n",
    "#         artifact_path='data/green_tripdata_2021-02.parquet',\n",
    "#         destination_path=\"/home/konradballegro/notebooks/inputs/model.xgb\"\n",
    "#         )"
   ]
  },
  {
   "cell_type": "code",
   "execution_count": null,
   "id": "7836ccfd",
   "metadata": {},
   "outputs": [],
   "source": [
    "with open('/home/konradballegro/notebooks/inputs/model.bin', 'rb') as f_in:\n",
    "    dv, model_old = pickle.load(f_in)"
   ]
  },
  {
   "cell_type": "code",
   "execution_count": null,
   "id": "a51b904a",
   "metadata": {},
   "outputs": [],
   "source": [
    "categorical = ['PULocationID', 'DOLocationID']"
   ]
  },
  {
   "cell_type": "code",
   "execution_count": null,
   "id": "41c08294",
   "metadata": {},
   "outputs": [],
   "source": [
    "def read_data(filename):\n",
    "    df = pd.read_parquet(filename)\n",
    "    \n",
    "    df['duration'] = df.tpep_dropoff_datetime - df.tpep_pickup_datetime\n",
    "    df['duration'] = df.duration.dt.total_seconds() / 60\n",
    "\n",
    "    df = df[(df.duration >= 1) & (df.duration <= 60)].copy()\n",
    "\n",
    "    df[categorical] = df[categorical].fillna(-1).astype('int').astype('str')\n",
    "    \n",
    "    return df"
   ]
  },
  {
   "cell_type": "code",
   "execution_count": null,
   "id": "4854399a",
   "metadata": {},
   "outputs": [],
   "source": [
    "df = read_data('https://d37ci6vzurychx.cloudfront.net/trip-data/yellow_tripdata_2022-02.parquet')"
   ]
  },
  {
   "cell_type": "code",
   "execution_count": null,
   "id": "66418b49",
   "metadata": {},
   "outputs": [],
   "source": [
    "df.info()"
   ]
  },
  {
   "cell_type": "code",
   "execution_count": null,
   "id": "6ec2c82d",
   "metadata": {},
   "outputs": [],
   "source": [
    "RUN_ID='8e35278e4321423d8029f87ec106243f'"
   ]
  },
  {
   "cell_type": "code",
   "execution_count": null,
   "id": "72976d52",
   "metadata": {},
   "outputs": [],
   "source": [
    "input_file='https://d37ci6vzurychx.cloudfront.net/trip-data/yellow_tripdata_2022-02.parquet'"
   ]
  },
  {
   "cell_type": "code",
   "execution_count": null,
   "id": "866cfb63",
   "metadata": {},
   "outputs": [],
   "source": [
    "output_file='/home/konradballegro/notebooks/outputs/prediction.parquet'"
   ]
  },
  {
   "cell_type": "code",
   "execution_count": null,
   "id": "e71045e8",
   "metadata": {},
   "outputs": [],
   "source": [
    "def generate_uuids(n):\n",
    "    ride_ids = []\n",
    "    for i in range(n):\n",
    "        ride_ids.append(str(uuid.uuid4()))\n",
    "    return ride_ids"
   ]
  },
  {
   "cell_type": "code",
   "execution_count": null,
   "id": "c0c3c819",
   "metadata": {},
   "outputs": [],
   "source": [
    "def read_dataframe(filename: str):\n",
    "    df = pd.read_parquet(filename)\n",
    "\n",
    "    df['duration'] = df.tpep_dropoff_datetime - df.tpep_pickup_datetime\n",
    "    df.duration = df.duration.dt.total_seconds() / 60\n",
    "    df = df[(df.duration >= 1) & (df.duration <= 60)]\n",
    "    \n",
    "    df['ride_id'] = generate_uuids(len(df))\n",
    "    \n",
    "    categorical = ['PULocationID', 'DOLocationID']\n",
    "    dicts = df[categorical].to_dict(orient='records')\n",
    "    X_val = dv.transform(dicts)\n",
    "\n",
    "#     return df\n",
    "    return X_val"
   ]
  },
  {
   "cell_type": "code",
   "execution_count": null,
   "id": "b4335575",
   "metadata": {},
   "outputs": [],
   "source": [
    "def prepare_dictionaries(df: pd.DataFrame):\n",
    "    categorical = ['PULocationID', 'DOLocationID']\n",
    "    df[categorical] = df[categorical].astype(str)\n",
    "    \n",
    "    df['PU_DO'] = df['PULocationID'] + '_' + df['DOLocationID']\n",
    "\n",
    "    categorical = ['PU_DO']\n",
    "    numerical = ['trip_distance']\n",
    "    dicts = df[categorical + numerical].to_dict(orient='records')\n",
    "    return dicts"
   ]
  },
  {
   "cell_type": "code",
   "execution_count": null,
   "id": "438cd08d",
   "metadata": {},
   "outputs": [],
   "source": [
    "def load_model(run_id):\n",
    "#     logged_model = f's3://mlflow-models-alexey/1/{RUN_ID}/artifacts/model'\n",
    "#     logged_model=f'gs://mlops-zoomcamp/2/{RUN_ID}/artifacts/models_mlflow/MLmodel'\n",
    "    model=mlflow.pyfunc.load_model('/home/konradballegro/notebooks/inputs/45e0e8d445544eef87226b6cbbf1921f/')\n",
    "    return model"
   ]
  },
  {
   "cell_type": "code",
   "execution_count": null,
   "id": "ec9cae3d",
   "metadata": {},
   "outputs": [],
   "source": [
    "def apply_model(input_file, run_id, output_file):\n",
    "\n",
    "    df = read_dataframe(input_file)\n",
    "    dicts = prepare_dictionaries(df)\n",
    "\n",
    "    \n",
    "    model = load_model(run_id)\n",
    "    y_pred = model.predict(dicts)\n",
    "\n",
    "    df_result = pd.DataFrame()\n",
    "    df_result['ride_id'] = df['ride_id']\n",
    "    df_result['tpep_pickup_datetime'] = df['tpep_pickup_datetime']\n",
    "    df_result['PULocationID'] = df['PULocationID']\n",
    "    df_result['DOLocationID'] = df['DOLocationID']\n",
    "    df_result['actual_duration'] = df['duration']\n",
    "    df_result['predicted_duration'] = y_pred\n",
    "    df_result['diff'] = df_result['actual_duration'] - df_result['predicted_duration']\n",
    "    df_result['model_version'] = run_id\n",
    "    \n",
    "    df_result.to_parquet(output_file, index=False)"
   ]
  },
  {
   "cell_type": "code",
   "execution_count": null,
   "id": "e3687116",
   "metadata": {},
   "outputs": [],
   "source": [
    "apply_model(input_file=input_file, run_id=RUN_ID, output_file=output_file)"
   ]
  },
  {
   "cell_type": "code",
   "execution_count": null,
   "id": "7602220d",
   "metadata": {},
   "outputs": [],
   "source": [
    "dicts = df[categorical].to_dict(orient='records')\n",
    "X_val = dv.transform(dicts)\n",
    "y_pred = model.predict(X_val)"
   ]
  }
 ],
 "metadata": {
  "kernelspec": {
   "display_name": "Python 3 (ipykernel)",
   "language": "python",
   "name": "python3"
  },
  "language_info": {
   "codemirror_mode": {
    "name": "ipython",
    "version": 3
   },
   "file_extension": ".py",
   "mimetype": "text/x-python",
   "name": "python",
   "nbconvert_exporter": "python",
   "pygments_lexer": "ipython3",
   "version": "3.8.10"
  }
 },
 "nbformat": 4,
 "nbformat_minor": 5
}
