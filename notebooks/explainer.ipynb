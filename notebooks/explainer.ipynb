{
 "cells": [
  {
   "cell_type": "markdown",
   "id": "5023e359",
   "metadata": {},
   "source": [
    "https://www.kdnuggets.com/2022/03/loss-functions-explainer.html"
   ]
  },
  {
   "cell_type": "markdown",
   "id": "20cd01e4",
   "metadata": {},
   "source": [
    "https://machinelearningmastery.com/rfe-feature-selection-in-python/"
   ]
  },
  {
   "cell_type": "markdown",
   "id": "cb1e4a1d",
   "metadata": {},
   "source": [
    "https://scikit-learn.org/stable/modules/classes.html#module-sklearn.metrics"
   ]
  },
  {
   "cell_type": "code",
   "execution_count": 1,
   "id": "33e79d5d",
   "metadata": {},
   "outputs": [],
   "source": [
    "import os\n",
    "import pyspark\n",
    "from pyspark.sql import SparkSession\n",
    "from pyspark.sql.functions import col, regexp_replace, when"
   ]
  },
  {
   "cell_type": "code",
   "execution_count": 2,
   "id": "c9f62928",
   "metadata": {},
   "outputs": [],
   "source": [
    "import numpy as np\n",
    "import pandas as pd"
   ]
  },
  {
   "cell_type": "code",
   "execution_count": 3,
   "id": "6807cbdf",
   "metadata": {},
   "outputs": [],
   "source": [
    "import seaborn as sns\n",
    "import matplotlib.pyplot as plt"
   ]
  },
  {
   "cell_type": "code",
   "execution_count": 4,
   "id": "9bb4416f",
   "metadata": {},
   "outputs": [],
   "source": [
    "from IPython.display import display, HTML\n",
    "import warnings"
   ]
  },
  {
   "cell_type": "code",
   "execution_count": 5,
   "id": "c076643d",
   "metadata": {},
   "outputs": [],
   "source": [
    "from sklearn.model_selection import StratifiedShuffleSplit"
   ]
  },
  {
   "cell_type": "code",
   "execution_count": 6,
   "id": "ed7e4267",
   "metadata": {},
   "outputs": [],
   "source": [
    "import time\n",
    "from sklearn.ensemble import RandomForestRegressor\n",
    "from sklearn.pipeline import Pipeline\n",
    "from sklearn.feature_selection import RFECV, RFE\n",
    "from sklearn.preprocessing import StandardScaler\n",
    "from sklearn.model_selection import GridSearchCV"
   ]
  },
  {
   "cell_type": "code",
   "execution_count": 7,
   "id": "7a752b03",
   "metadata": {},
   "outputs": [],
   "source": [
    "from sklearn.metrics import mean_squared_error\n",
    "from sklearn.model_selection import ParameterGrid"
   ]
  },
  {
   "cell_type": "code",
   "execution_count": 8,
   "id": "e51368e5",
   "metadata": {},
   "outputs": [],
   "source": [
    "# Linear Regression\n",
    "from sklearn.linear_model import LinearRegression\n",
    "\n",
    "# Ridge Regression\n",
    "from sklearn.linear_model import Ridge\n",
    "\n",
    "# Lasso Regression\n",
    "from sklearn.linear_model import Lasso\n",
    "\n",
    "# ElasticNet Regression\n",
    "from sklearn.linear_model import ElasticNet\n",
    "\n",
    "# Support Vector Regression (SVR)\n",
    "from sklearn.svm import SVR\n",
    "\n",
    "# Decision Tree Regression\n",
    "from sklearn.tree import DecisionTreeRegressor\n",
    "\n",
    "# Random Forest Regression\n",
    "from sklearn.ensemble import RandomForestRegressor\n",
    "\n",
    "# Gradient Boosting Regression\n",
    "from sklearn.ensemble import GradientBoostingRegressor\n",
    "\n",
    "# AdaBoost Regression\n",
    "from sklearn.ensemble import AdaBoostRegressor\n",
    "\n",
    "# XGBoost Regression\n",
    "from xgboost import XGBRegressor\n",
    "\n",
    "# LightGBM Regression\n",
    "# from lightgbm import LGBMRegressor\n",
    "\n",
    "# CatBoost Regression\n",
    "# from catboost import CatBoostRegressor\n"
   ]
  },
  {
   "cell_type": "code",
   "execution_count": 9,
   "id": "608ac5c5",
   "metadata": {},
   "outputs": [],
   "source": [
    "from sklearn.linear_model import LinearRegression, Ridge, Lasso, ElasticNet, SGDRegressor\n",
    "from sklearn.svm import SVR, NuSVR\n",
    "from sklearn.tree import DecisionTreeRegressor\n",
    "from sklearn.ensemble import AdaBoostRegressor, BaggingRegressor, GradientBoostingRegressor, ExtraTreesRegressor, RandomForestRegressor\n",
    "from xgboost import XGBRegressor"
   ]
  },
  {
   "cell_type": "code",
   "execution_count": null,
   "id": "19702811",
   "metadata": {},
   "outputs": [],
   "source": []
  },
  {
   "cell_type": "code",
   "execution_count": 10,
   "id": "112b274b",
   "metadata": {},
   "outputs": [
    {
     "data": {
      "text/html": [
       "<style>.container { width:100% !important; }</style>"
      ],
      "text/plain": [
       "<IPython.core.display.HTML object>"
      ]
     },
     "metadata": {},
     "output_type": "display_data"
    }
   ],
   "source": [
    "display(HTML(\"<style>.container { width:100% !important; }</style>\"))\n",
    "warnings.filterwarnings('ignore')\n",
    "# pd.options.display.float_format = \"{:.2f}\".format"
   ]
  },
  {
   "cell_type": "code",
   "execution_count": 11,
   "id": "f96683c3",
   "metadata": {},
   "outputs": [
    {
     "data": {
      "text/plain": [
       "'3.3.2'"
      ]
     },
     "execution_count": 11,
     "metadata": {},
     "output_type": "execute_result"
    }
   ],
   "source": [
    "pyspark.__version__"
   ]
  },
  {
   "cell_type": "code",
   "execution_count": 12,
   "id": "3d536bd3",
   "metadata": {},
   "outputs": [
    {
     "name": "stderr",
     "output_type": "stream",
     "text": [
      "Setting default log level to \"WARN\".\n",
      "To adjust logging level use sc.setLogLevel(newLevel). For SparkR, use setLogLevel(newLevel).\n"
     ]
    },
    {
     "name": "stdout",
     "output_type": "stream",
     "text": [
      "23/06/21 21:25:58 WARN NativeCodeLoader: Unable to load native-hadoop library for your platform... using builtin-java classes where applicable\n",
      "23/06/21 21:25:58 WARN Utils: Service 'SparkUI' could not bind on port 4040. Attempting port 4041.\n",
      "23/06/21 21:25:58 WARN Utils: Service 'SparkUI' could not bind on port 4041. Attempting port 4042.\n"
     ]
    }
   ],
   "source": [
    "spark = SparkSession.builder \\\n",
    "    .master(\"local[*]\") \\\n",
    "    .appName('regression') \\\n",
    "    .getOrCreate()"
   ]
  },
  {
   "cell_type": "code",
   "execution_count": 13,
   "id": "b12de665",
   "metadata": {},
   "outputs": [
    {
     "name": "stderr",
     "output_type": "stream",
     "text": [
      "                                                                                \r"
     ]
    }
   ],
   "source": [
    "df = spark.read \\\n",
    "    .option(\"header\", \"true\") \\\n",
    "    .option(\"inferSchema\", \"True\") \\\n",
    "    .csv(\"/home/konradballegro/scripts/scraper/outputs/data/offers.csv\")"
   ]
  },
  {
   "cell_type": "code",
   "execution_count": 14,
   "id": "d3f51317",
   "metadata": {},
   "outputs": [
    {
     "name": "stdout",
     "output_type": "stream",
     "text": [
      "Number of rows:  129589\n",
      "Number of columns:  230\n"
     ]
    }
   ],
   "source": [
    "# Count the number of rows in the DataFrame\n",
    "num_rows = df.count()\n",
    "\n",
    "# Count the number of columns in the DataFrame\n",
    "num_cols = len(df.columns)\n",
    "\n",
    "# Print the shape of the DataFrame\n",
    "print(\"Number of rows: \", num_rows)\n",
    "print(\"Number of columns: \", num_cols)"
   ]
  },
  {
   "cell_type": "code",
   "execution_count": 15,
   "id": "eafc5dbe",
   "metadata": {},
   "outputs": [
    {
     "name": "stdout",
     "output_type": "stream",
     "text": [
      "0: Offer from\n",
      "1: Category\n",
      "2: Show offers with VIN number\n",
      "3: Has registration number\n",
      "4: Vehicle brand\n",
      "5: Vehicle model\n",
      "6: Version\n",
      "7: Generation\n",
      "8: Year of production\n",
      "9: Mileage\n",
      "10: Engine capacity\n",
      "11: Fuel type\n",
      "12: Power\n",
      "13: Gearbox\n",
      "14: Range\n",
      "15: Drive\n",
      "16: Battery capacity\n",
      "17: Battery ownership type\n",
      "18: CO2 emissions\n",
      "19: Particulate filter\n",
      "20: City fuel consumption\n",
      "21: Body type\n",
      "22: Number of doors\n",
      "23: Number of seats\n",
      "24: Color\n",
      "25: Metallic\n",
      "26: Color type\n",
      "27: Right-hand drive (Anglik)\n",
      "28: Country of origin\n",
      "29: Leasing\n",
      "30: VAT margin\n",
      "31: VAT invoice\n",
      "32: Manufacturer warranty period\n",
      "33: Financing possibility\n",
      "34: First registration\n",
      "35: Registered in Poland\n",
      "36: First owner\n",
      "37: Accident-free\n",
      "38: Serviced at authorized service center\n",
      "39: Condition\n",
      "40: ABS\n",
      "41: Apple CarPlay\n",
      "42: Android Auto\n",
      "43: Rear side airbags43\n",
      "44: Driver side airbag\n",
      "45: CD\n",
      "46: Central locking\n",
      "47: Electric front windows\n",
      "48: Electrically adjustable passenger seat\n",
      "49: Electrically adjustable mirrors\n",
      "50: Immobilizer\n",
      "51: Driver airbag\n",
      "52: Passenger airbag\n",
      "53: Factory radio\n",
      "54: Power steering\n",
      "55: Alarm\n",
      "56: Alloy wheels\n",
      "57: ASR (traction control)\n",
      "58: Rear cross-traffic alert\n",
      "59: Parking assistant\n",
      "60: City emergency braking assistant\n",
      "61: Brake Assist\n",
      "62: Active lane change assistant\n",
      "63: Traffic jam assistant\n",
      "64: Active speed limit recognition\n",
      "65: Blind spot assistant (sensor)\n",
      "66: Adaptive headlights\n",
      "67: Intersection collision prevention assistant\n",
      "68: Lane keeping assistant\n",
      "69: Automatic descent control\n",
      "70: Front side airbags70\n",
      "71: Digital key\n",
      "72: Rain sensor\n",
      "73: Blind spot sensor\n",
      "74: Dusk sensor\n",
      "75: Front parking sensors\n",
      "76: Rear parking sensors\n",
      "77: Panoramic roof\n",
      "78: Electrically operated roof\n",
      "79: Internet access\n",
      "80: Dynamic cornering lights\n",
      "81: Gear shift lever finished in leather\n",
      "82: Touchscreen\n",
      "83: Electrochromic side mirrors\n",
      "84: Electrochromic rearview mirror\n",
      "85: Electric rear windows\n",
      "86: Electrically adjustable seats\n",
      "87: Electric parking brake\n",
      "88: Electronic brake force distribution system\n",
      "89: Electronic tire pressure control\n",
      "90: Electronic suspension adjustment\n",
      "91: Electrically adjustable driver's seat\n",
      "92: ESP\n",
      "93: Alloy wheels from 21 inches\n",
      "94: Alloy wheels 19 inches\n",
      "95: Ventilated front seats\n",
      "96: Front seats with massage function\n",
      "97: Fast charging function\n",
      "98: AUX socket\n",
      "99: SD card socket\n",
      "100: USB socket\n",
      "101: Tow hitch\n",
      "102: Ceramic composite brakes\n",
      "103: HUD (Head-Up Display)\n",
      "104: Bluetooth interface\n",
      "105: Isofix\n",
      "106: Charging cable\n",
      "107: 360 panoramic camera\n",
      "108: Reversing camera\n",
      "109: Rear parking camera\n",
      "110: Side mirror camera\n",
      "111: Steering wheel audio controls\n",
      "112: Leather steering wheel\n",
      "113: Multifunction steering wheel113\n",
      "114: Sports steering wheel\n",
      "115: Heated steering wheel\n",
      "116: Automatic air conditioning\n",
      "117: Four-zone air conditioning\n",
      "118: Automatic air conditioning: 3-zone\n",
      "119: Dual-zone air conditioning\n",
      "120: Automatic air conditioning, dual-zone\n",
      "121: Automatic air conditioning: 4 or more zones\n",
      "122: Manual air conditioning\n",
      "123: Rear passenger air conditioning\n",
      "124: On-board computer\n",
      "125: Traction control\n",
      "126: Distance control from the preceding vehicle\n",
      "127: Rear distance control (parking)\n",
      "128: Front distance control (parking)\n",
      "129: Front air curtains\n",
      "130: Rear air curtains\n",
      "131: Keyless Go\n",
      "132: Keyless entry\n",
      "133: Lane assist - lane change control\n",
      "134: LED taillights\n",
      "135: LED headlights\n",
      "136: Bi-xenon headlights\n",
      "137: Xenon headlights\n",
      "138: Cornering lights\n",
      "139: Fog lights139\n",
      "140: LED fog lights\n",
      "141: Electrically adjustable side mirrors\n",
      "142: Electrically folding side mirrors\n",
      "143: Wireless device charging\n",
      "144: Gear shift paddles\n",
      "145: MP3\n",
      "146: GPS navigation\n",
      "147: Independent parking system\n",
      "148: DVD player\n",
      "149: Speed limiter\n",
      "150: Auxiliary heating\n",
      "151: Heated rear seats151\n",
      "152: Runflat tires\n",
      "153: Summer tires\n",
      "154: All-season tires\n",
      "155: Home lighting feature\n",
      "156: LED interior lighting\n",
      "157: Adaptive lighting\n",
      "158: Park Assistant - parking assistant\n",
      "159: Heated front windshield\n",
      "160: Heated side mirrors\n",
      "161: Heated front seats\n",
      "162: Heated rear seats162\n",
      "163: Front armrests\n",
      "164: Rear armrests\n",
      "165: Knee airbag\n",
      "166: Front side airbags166\n",
      "167: Rear side airbags167\n",
      "168: Central airbag\n",
      "169: Driver's knee airbag\n",
      "170: Passenger's knee airbag\n",
      "171: Rear seat belt airbags\n",
      "172: Heated passenger seat\n",
      "173: Tinted windows\n",
      "174: Tinted rear windows\n",
      "175: Non-factory radio\n",
      "176: Radio\n",
      "177: Adjustable suspension177\n",
      "178: Electric lumbar support adjustment - driver\n",
      "179: Electric lumbar support adjustment - passenger\n",
      "180: Roof rails\n",
      "181: Manually retractable side window blinds\n",
      "182: Memory seat\n",
      "183: Sports seats - front\n",
      "184: Headlight washers\n",
      "185: Voice-controlled vehicle functions\n",
      "186: Collision mitigation system\n",
      "187: Brake assist system\n",
      "188: Collision warning system\n",
      "189: Route break recommendation system\n",
      "190: Accident notification system\n",
      "191: Start/Stop system\n",
      "192: Satellite navigation system\n",
      "193: Energy recovery system\n",
      "194: Sound system\n",
      "195: Emergency braking system for pedestrian protection\n",
      "196: Traffic sign recognition system\n",
      "197: Sunroof\n",
      "198: Electric sliding and tilting glass sunroof\n",
      "199: Daytime running lights\n",
      "200: LED lights\n",
      "201: LED daytime running lights\n",
      "202: Fog lights202\n",
      "203: Xenon lights\n",
      "204: Leather upholstery\n",
      "205: Alcantara upholstery\n",
      "206: Velour upholstery\n",
      "207: Cruise control\n",
      "208: Active cruise control\n",
      "209: Adaptive cruise control (ACC)\n",
      "210: TV tuner\n",
      "211: Keyless engine start\n",
      "212: Multifunction steering wheel212\n",
      "213: Wipers\n",
      "214: Hill Holder - uphill assist\n",
      "215: Head-Up display\n",
      "216: CD changer\n",
      "217: Sports suspension\n",
      "218: Comfort suspension\n",
      "219: Air suspension\n",
      "220: Adjustable suspension220\n",
      "221: External wrapping\n",
      "222: Hands-free kit\n",
      "223: Paddle shifters\n",
      "224: Price\n",
      "225: Price details\n",
      "226: Currency\n",
      "227: URL path\n",
      "228: ID\n",
      "229: Epoch\n"
     ]
    }
   ],
   "source": [
    "headers = df.columns\n",
    "for h, head in enumerate(headers):\n",
    "    print(f\"{h}: {head}\")"
   ]
  },
  {
   "cell_type": "code",
   "execution_count": 16,
   "id": "6ae272d2",
   "metadata": {},
   "outputs": [],
   "source": [
    "# Sample 20% of the rows without replacement\n",
    "sampled_df = df.sample(withReplacement=False, fraction=0.2)"
   ]
  },
  {
   "cell_type": "code",
   "execution_count": 17,
   "id": "d51a1449",
   "metadata": {},
   "outputs": [
    {
     "name": "stdout",
     "output_type": "stream",
     "text": [
      "Number of rows:  26061\n",
      "Number of columns:  230\n"
     ]
    }
   ],
   "source": [
    "# Count the number of rows in the DataFrame\n",
    "num_rows = sampled_df.count()\n",
    "\n",
    "# Count the number of columns in the DataFrame\n",
    "num_cols = len(sampled_df.columns)\n",
    "\n",
    "# Print the shape of the DataFrame\n",
    "print(\"Number of rows: \", num_rows)\n",
    "print(\"Number of columns: \", num_cols)"
   ]
  },
  {
   "cell_type": "code",
   "execution_count": 18,
   "id": "b3b5a690",
   "metadata": {},
   "outputs": [
    {
     "name": "stderr",
     "output_type": "stream",
     "text": [
      "                                                                                \r"
     ]
    }
   ],
   "source": [
    "price = sampled_df.select(\"Price\").rdd.flatMap(lambda x: x).collect()"
   ]
  },
  {
   "cell_type": "code",
   "execution_count": 19,
   "id": "1f188722",
   "metadata": {},
   "outputs": [],
   "source": [
    "# # Assuming you have a PySpark DataFrame called 'sampled_df' with a column 'Price'\n",
    "# # Extract the 'Price' column as a list\n",
    "# price_data = sampled_df.select(\"Price\").rdd.flatMap(lambda x: x).collect()\n",
    "\n",
    "# # Create a histogram using Seaborn\n",
    "# sns.histplot(data=price_data, bins=10, kde=True)\n",
    "\n",
    "# # Customize the plot\n",
    "# plt.xlabel(\"Price\")\n",
    "# plt.ylabel(\"Frequency\")\n",
    "# plt.title(\"Histogram of Prices\")\n",
    "\n",
    "# # Show the plot\n",
    "# plt.show()\n"
   ]
  },
  {
   "cell_type": "raw",
   "id": "ecbf4c39",
   "metadata": {},
   "source": [
    "Missing:\n",
    "\n",
    "Mileage\n",
    "Version\n",
    "Generation\n",
    "Power\n",
    "Gearbox\n",
    "Number of doors\n",
    "\n",
    "Filter by:\n",
    "\n",
    "Accident-free:\n",
    "1\n",
    "\n",
    "Currency:\n",
    "\"PLN\"\n",
    "\n",
    "Fuel:\n",
    "Value\tCount\tFrequency (%)\n",
    "Benzyna\t66855\t51.6%\n",
    "Diesel\t48946\t37.8%\n",
    "Hybryda\t6098\t 4.7%\n",
    "Benzyna+LPG\t4980\t 3.8%\n",
    "Elektryczny\t2648\t 2.0%\n",
    "Benzyna+CNG\t58\t < 0.1%\n",
    "Wodór\t3\t < 0.1%\n",
    "Etanol\n",
    "\n",
    "Country of origin:\n",
    "Value\tCount\tFrequency (%)\n",
    "Polska\t45519\t35.1%\n",
    "Niemcy\t22590\t17.4%\n",
    "Francja\t4323\t 3.3%\n",
    "Belgia\t2856\t 2.2%\n",
    "Stany Zjednoczone\t2733\t 2.1%\n",
    "Holandia\t1459\t 1.1%\n",
    "Szwajcaria\t1314\t 1.0%\n",
    "Włochy\t951\t 0.7%\n",
    "Szwecja\t813\t 0.6%\n",
    "Austria\t740\t 0.6%\n",
    "Other values (29)\t2374\t 1.8%\n",
    "(Missing)"
   ]
  },
  {
   "cell_type": "code",
   "execution_count": 20,
   "id": "2ac836ba",
   "metadata": {},
   "outputs": [],
   "source": [
    "df = df.filter((df[\"Currency\"] == \"PLN\") &\n",
    "                        (df[\"Country of origin\"] == \"Polska\") &\n",
    "                        (df[\"Accident-free\"].isNotNull()) &\n",
    "                        (df[\"Price\"].isNotNull()) &\n",
    "                        (df[\"Offer from\"].isNotNull()) &\n",
    "                        (df[\"Condition\"].isNotNull()) &\n",
    "                        (df[\"Vehicle brand\"].isNotNull()) &\n",
    "                        (df[\"Vehicle model\"].isNotNull()) &\n",
    "                        (df[\"Year of production\"].isNotNull()) &\n",
    "                        (df[\"Mileage\"].isNotNull()) &\n",
    "                        (df[\"Fuel type\"].isNotNull()) &\n",
    "                        (df[\"Power\"].isNotNull()) &\n",
    "                        (df[\"Gearbox\"].isNotNull()) &\n",
    "                        (df[\"Body type\"].isNotNull()) &\n",
    "                        (df[\"Number of doors\"].isNotNull())\n",
    "                       ).select(col(\"Price\").cast(\"float\").alias(\"Price\"),\n",
    "                                \"Offer from\",\n",
    "                                \"Condition\",\n",
    "                                \"Vehicle brand\",\n",
    "                                \"Vehicle model\",\n",
    "                                col(\"Year of production\").cast(\"string\").alias(\"Year of production\"),\n",
    "                                regexp_replace(regexp_replace(col(\"Mileage\"), \" \", \"\"), \"km\", \"\").cast(\"float\").alias(\"Mileage\"),\n",
    "                                \"Fuel type\",\n",
    "                                regexp_replace(regexp_replace(col(\"Power\"), \" \", \"\"), \"KM\", \"\").cast(\"integer\").alias(\"Power\"),\n",
    "                                \"Gearbox\",\n",
    "                                \"Body type\",\n",
    "                                \"Number of doors\",\n",
    "                                \"URL path\",\n",
    "                                \"ID\",\n",
    "                                \"Epoch\"\n",
    "                               )"
   ]
  },
  {
   "cell_type": "code",
   "execution_count": 21,
   "id": "56c0fbd3",
   "metadata": {},
   "outputs": [
    {
     "name": "stderr",
     "output_type": "stream",
     "text": [
      "\r",
      "[Stage 9:>                                                          (0 + 4) / 4]\r"
     ]
    },
    {
     "name": "stdout",
     "output_type": "stream",
     "text": [
      "Number of rows:  33225\n",
      "Number of columns:  15\n"
     ]
    },
    {
     "name": "stderr",
     "output_type": "stream",
     "text": [
      "\r",
      "                                                                                \r"
     ]
    }
   ],
   "source": [
    "# Count the number of rows in the DataFrame\n",
    "num_rows = df.count()\n",
    "\n",
    "# Count the number of columns in the DataFrame\n",
    "num_cols = len(df.columns)\n",
    "\n",
    "# Print the shape of the DataFrame\n",
    "print(\"Number of rows: \", num_rows)\n",
    "print(\"Number of columns: \", num_cols)"
   ]
  },
  {
   "cell_type": "code",
   "execution_count": 22,
   "id": "0c16aaa0",
   "metadata": {},
   "outputs": [
    {
     "name": "stdout",
     "output_type": "stream",
     "text": [
      "+--------+---------------+---------+-------------+-------------+------------------+--------+-----------+-----+------------+-------------+---------------+--------------------+--------------------+----------+\n",
      "|   Price|     Offer from|Condition|Vehicle brand|Vehicle model|Year of production| Mileage|  Fuel type|Power|     Gearbox|    Body type|Number of doors|            URL path|                  ID|     Epoch|\n",
      "+--------+---------------+---------+-------------+-------------+------------------+--------+-----------+-----+------------+-------------+---------------+--------------------+--------------------+----------+\n",
      "| 28000.0|Osoby prywatnej|  Używane|        Honda|        Civic|              2010|189347.0|    Benzyna|  140|    Manualna|        Sedan|            4.0|https://www.otomo...|000d1349f23a1d685...|1687241613|\n",
      "| 92900.0|Osoby prywatnej|  Używane|        Honda|        Civic|              2018| 81240.0|    Benzyna|  182|    Manualna|      Kompakt|            5.0|https://www.otomo...|fd5c9a30a35cd6374...|1687241614|\n",
      "| 89000.0|Osoby prywatnej|  Używane|        Honda|         CR-V|              2016| 86500.0|    Benzyna|  155|    Manualna|          SUV|            5.0|https://www.otomo...|1fe7ecf69deff1c9e...|1687241613|\n",
      "| 48900.0|Osoby prywatnej|  Używane|        Honda|         CR-V|              2010|218350.0|Benzyna+LPG|  150|    Manualna|          SUV|            5.0|https://www.otomo...|dde7ecb1c39b9bd3f...|1687241614|\n",
      "|  7500.0|Osoby prywatnej|  Używane|        Honda|        Civic|              2001|245000.0|    Benzyna|   90|    Manualna|      Kompakt|            5.0|https://www.otomo...|86b2b5736692b7b95...|1687241614|\n",
      "| 29900.0|Osoby prywatnej|  Używane|        Honda|       Accord|              2010|320000.0|    Benzyna|  156|    Manualna|        Sedan|            4.0|https://www.otomo...|83d3b0f9d6debe1d7...|1687241615|\n",
      "| 99999.0|Osoby prywatnej|  Używane|        Honda|         CR-V|              2017| 79243.0|    Benzyna|  155|    Manualna|          SUV|            5.0|https://www.otomo...|c880ff3faa7d0f96a...|1687241616|\n",
      "|  6400.0|Osoby prywatnej|  Używane|        Honda|        Civic|              2003|228230.0|Benzyna+LPG|   90|    Manualna|      Kompakt|            5.0|https://www.otomo...|40e5a75d3dc3593dd...|1687241616|\n",
      "| 79800.0|Osoby prywatnej|  Używane|        Honda|         HR-V|              2017|100000.0|    Benzyna|  130|Automatyczna|          SUV|            5.0|https://www.otomo...|2433ba4cfb7e45c1c...|1687241616|\n",
      "| 65900.0|          Firmy|  Używane|        Honda|       Accord|              2012| 92000.0|    Benzyna|  201|    Manualna|        Kombi|            5.0|https://www.otomo...|d533550b52e783604...|1687241617|\n",
      "| 39800.0|          Firmy|  Używane|        Honda|        Civic|              2011| 90000.0|    Benzyna|  140|    Manualna|        Sedan|            4.0|https://www.otomo...|db08baf65185fe5f9...|1687241618|\n",
      "| 91900.0|Osoby prywatnej|  Używane|        Honda|         CR-V|              2016|120000.0|    Benzyna|  155|Automatyczna|          SUV|            5.0|https://www.otomo...|eaa3eb8699f9d43d5...|1687241620|\n",
      "| 33000.0|Osoby prywatnej|  Używane|        Honda|         CR-V|              2008|304706.0|     Diesel|  140|    Manualna|          SUV|            5.0|https://www.otomo...|d86cb7d5cc5e56eac...|1687241623|\n",
      "| 72000.0|Osoby prywatnej|  Używane|        Honda|         CR-V|              2010|147278.0|    Benzyna|  149|Automatyczna|          SUV|            5.0|https://www.otomo...|ae51f6b4d96e98fce...|1687241624|\n",
      "| 31900.0|Osoby prywatnej|  Używane|        Honda|        Civic|              2009|160000.0|    Benzyna|  140|    Manualna|Auta miejskie|            5.0|https://www.otomo...|ebe990670373efdae...|1687241624|\n",
      "| 76900.0|          Firmy|  Używane|        Honda|         HR-V|              2016| 97700.0|    Benzyna|  130|    Manualna|          SUV|            5.0|https://www.otomo...|9618fd8e19432c216...|1687241627|\n",
      "| 88000.0|Osoby prywatnej|  Używane|        Honda|         CR-V|              2013|141000.0|    Benzyna|  155|Automatyczna|          SUV|            5.0|https://www.otomo...|be08a82e9c8d9ef1a...|1687241629|\n",
      "| 39000.0|Osoby prywatnej|  Używane|        Honda|       Accord|              2008|241000.0|Benzyna+LPG|  156|    Manualna|        Sedan|            5.0|https://www.otomo...|b86cc62099a021943...|1687241630|\n",
      "|103500.0|Osoby prywatnej|  Używane|        Honda|        Civic|              2019| 50000.0|    Benzyna|  182|Automatyczna|      Kompakt|            5.0|https://www.otomo...|b1ef0837421d0c3d7...|1687241630|\n",
      "| 87700.0|Osoby prywatnej|  Używane|        Honda|        Civic|              2017| 55000.0|    Benzyna|  182|    Manualna|        Sedan|            4.0|https://www.otomo...|3acc825b0c52c4faf...|1687241630|\n",
      "+--------+---------------+---------+-------------+-------------+------------------+--------+-----------+-----+------------+-------------+---------------+--------------------+--------------------+----------+\n",
      "only showing top 20 rows\n",
      "\n"
     ]
    }
   ],
   "source": [
    "df.show()"
   ]
  },
  {
   "cell_type": "code",
   "execution_count": 23,
   "id": "52c06a44",
   "metadata": {},
   "outputs": [
    {
     "name": "stderr",
     "output_type": "stream",
     "text": [
      "                                                                                \r"
     ]
    }
   ],
   "source": [
    "distinct_offers = df.select(\"Offer from\").distinct().rdd.flatMap(lambda x: x).collect()\n",
    "distinct_conditions = df.select(\"Condition\").distinct().rdd.flatMap(lambda x: x).collect()\n",
    "distinct_brands = df.select(\"Vehicle brand\").distinct().rdd.flatMap(lambda x: x).collect()\n",
    "distinct_models = df.select(\"Vehicle model\").distinct().rdd.flatMap(lambda x: x).collect()\n",
    "distinct_years = df.select(\"Year of production\").distinct().rdd.flatMap(lambda x: x).collect()\n",
    "distinct_fuel = df.select(\"Fuel type\").distinct().rdd.flatMap(lambda x: x).collect()\n",
    "distinct_gearbox = df.select(\"Gearbox\").distinct().rdd.flatMap(lambda x: x).collect()\n",
    "distinct_body = df.select(\"Body type\").distinct().rdd.flatMap(lambda x: x).collect()\n",
    "distinct_doors = df.select(\"Number of doors\").distinct().rdd.flatMap(lambda x: x).collect()"
   ]
  },
  {
   "cell_type": "code",
   "execution_count": 24,
   "id": "1ecc400a",
   "metadata": {},
   "outputs": [],
   "source": [
    "for offer in distinct_offers:\n",
    "    column_name = \"Offer_type_\" + offer.replace(\" \", \"_\")\n",
    "    df = df.withColumn(column_name, when(df[\"Offer from\"] == offer, 1).otherwise(0))"
   ]
  },
  {
   "cell_type": "code",
   "execution_count": 25,
   "id": "10310990",
   "metadata": {},
   "outputs": [],
   "source": [
    "for condition in distinct_conditions:\n",
    "    column_name = \"Condition_\" + condition.replace(\" \", \"_\")\n",
    "    df = df.withColumn(column_name, when(df[\"Condition\"] == condition, 1).otherwise(0))"
   ]
  },
  {
   "cell_type": "code",
   "execution_count": 26,
   "id": "81468902",
   "metadata": {},
   "outputs": [],
   "source": [
    "for model in distinct_models:\n",
    "    column_name = \"Vehicle_model_\" + model.replace(\" \", \"_\")\n",
    "    df = df.withColumn(column_name, when(df[\"Vehicle model\"] == model, 1).otherwise(0))"
   ]
  },
  {
   "cell_type": "code",
   "execution_count": null,
   "id": "6056a3d8",
   "metadata": {},
   "outputs": [],
   "source": [
    "for year in distinct_years:\n",
    "    column_name = \"Year_of_production_\" + str(year)\n",
    "    df = df.withColumn(column_name, when(df[\"Year of production\"] == year, 1).otherwise(0))"
   ]
  },
  {
   "cell_type": "code",
   "execution_count": null,
   "id": "57f3bdda",
   "metadata": {},
   "outputs": [],
   "source": [
    "for fuel in distinct_fuel:\n",
    "    column_name = \"Fuel_type_\" + fuel.replace(\" \", \"_\")\n",
    "    df = df.withColumn(column_name, when(df[\"Fuel type\"] == fuel, 1).otherwise(0))"
   ]
  },
  {
   "cell_type": "code",
   "execution_count": null,
   "id": "0e18b909",
   "metadata": {},
   "outputs": [],
   "source": [
    "for gearbox in distinct_gearbox:\n",
    "    column_name = \"Gearbox_\" + gearbox.replace(\" \", \"_\")\n",
    "    df = df.withColumn(column_name, when(df[\"Gearbox\"] == gearbox, 1).otherwise(0))"
   ]
  },
  {
   "cell_type": "code",
   "execution_count": null,
   "id": "607bd513",
   "metadata": {},
   "outputs": [],
   "source": [
    "for body in distinct_body:\n",
    "    column_name = \"Body_type_\" + body.replace(\" \", \"_\")\n",
    "    df = df.withColumn(column_name, when(df[\"Body type\"] == body, 1).otherwise(0))"
   ]
  },
  {
   "cell_type": "code",
   "execution_count": null,
   "id": "784e31a5",
   "metadata": {},
   "outputs": [],
   "source": [
    "for doors in distinct_doors:\n",
    "    column_name = \"Number_of_doors_\" + str(doors)\n",
    "    df = df.withColumn(column_name, when(df[\"Number of doors\"] == doors, 1).otherwise(0))"
   ]
  },
  {
   "cell_type": "code",
   "execution_count": null,
   "id": "7c29f34f",
   "metadata": {},
   "outputs": [],
   "source": [
    "# Assuming your DataFrame is called df\n",
    "columns_to_drop = [\"Offer from\", \"Condition\", \"Vehicle brand\", \"Vehicle model\", \"Year of production\", \"Fuel type\", \"Gearbox\", \"Body type\", \"Number of doors\", \"URL path\", \"ID\", \"Epoch\"]\n",
    "\n",
    "# Drop the specified columns\n",
    "df = df.drop(*columns_to_drop)"
   ]
  },
  {
   "cell_type": "code",
   "execution_count": null,
   "id": "aaeb11e2",
   "metadata": {},
   "outputs": [],
   "source": [
    "df = df.filter(df[\"Price\"].isNotNull())"
   ]
  },
  {
   "cell_type": "code",
   "execution_count": null,
   "id": "7bfd838c",
   "metadata": {},
   "outputs": [],
   "source": [
    "df_pandas = df.toPandas()"
   ]
  },
  {
   "cell_type": "code",
   "execution_count": null,
   "id": "548adfd6",
   "metadata": {},
   "outputs": [],
   "source": [
    "df_pandas"
   ]
  },
  {
   "cell_type": "code",
   "execution_count": null,
   "id": "010e5f81",
   "metadata": {},
   "outputs": [],
   "source": [
    "df_pandas.isnull().sum()"
   ]
  },
  {
   "cell_type": "code",
   "execution_count": null,
   "id": "6d826214",
   "metadata": {},
   "outputs": [],
   "source": [
    "df_pandas.to_csv('/home/konradballegro/notebooks/outputs/data/offers.csv')"
   ]
  },
  {
   "cell_type": "code",
   "execution_count": null,
   "id": "63aed275",
   "metadata": {},
   "outputs": [],
   "source": [
    "y = df_pandas[\"Price\"]\n",
    "y"
   ]
  },
  {
   "cell_type": "code",
   "execution_count": null,
   "id": "d22b9bef",
   "metadata": {},
   "outputs": [],
   "source": [
    "X = df_pandas.loc[:, ~df_pandas.columns.isin([\"Price\"])]\n",
    "X.head()"
   ]
  },
  {
   "cell_type": "code",
   "execution_count": null,
   "id": "33ce7e85",
   "metadata": {},
   "outputs": [],
   "source": [
    "train_size = 0.8"
   ]
  },
  {
   "cell_type": "code",
   "execution_count": null,
   "id": "472912b3",
   "metadata": {},
   "outputs": [],
   "source": [
    "from sklearn.model_selection import train_test_split\n",
    "\n",
    "# Split data into train and remaining data\n",
    "X_train, X_remain, y_train, y_remain = train_test_split(X, y, test_size=0.3, random_state=42)\n",
    "\n",
    "# Split remaining data into validation and test sets\n",
    "X_val, X_test, y_val, y_test = train_test_split(X_remain, y_remain, test_size=0.5, random_state=42)\n"
   ]
  },
  {
   "cell_type": "code",
   "execution_count": null,
   "id": "370178a6",
   "metadata": {},
   "outputs": [],
   "source": [
    "print(\"Shape of X_train:\", X_train.shape)\n",
    "print(\"Shape of X_val:\", X_val.shape)\n",
    "print(\"Shape of X_test:\", X_test.shape)\n",
    "print(\"Shape of y_train:\", y_train.shape)\n",
    "print(\"Shape of y_val:\", y_val.shape)\n",
    "print(\"Shape of y_test:\", y_test.shape)"
   ]
  },
  {
   "cell_type": "code",
   "execution_count": null,
   "id": "ec4d9f7d",
   "metadata": {},
   "outputs": [],
   "source": [
    "corr_matrix = X_train.corr(method = \"spearman\").abs()\n",
    "upper = corr_matrix.where(np.triu(np.ones(corr_matrix.shape), k = 1).astype(np.bool))\n",
    "to_drop = [column for column in upper.columns if any(upper[column] > 0.90)]\n",
    "X_train = X_train.drop(to_drop, axis = 1)\n",
    "X_val = X_val.drop(to_drop, axis = 1)\n",
    "X_test = X_test.drop(to_drop, axis = 1)"
   ]
  },
  {
   "cell_type": "code",
   "execution_count": null,
   "id": "99347402",
   "metadata": {},
   "outputs": [],
   "source": [
    "X_train"
   ]
  },
  {
   "cell_type": "code",
   "execution_count": null,
   "id": "b7838538",
   "metadata": {},
   "outputs": [],
   "source": [
    "import pandas as pd\n",
    "from sklearn.preprocessing import StandardScaler\n",
    "\n",
    "# Assuming df is your DataFrame containing the data\n",
    "subset = X_train[[\"Mileage\", \"Power\"]]\n",
    "\n",
    "scaler = StandardScaler()\n",
    "scaler.fit(subset)\n",
    "subset_scaled = scaler.transform(subset)\n",
    "\n",
    "X_train[\"Mileage\"] = subset_scaled[:, 0]\n",
    "X_train[\"Power\"] = subset_scaled[:, 1]"
   ]
  },
  {
   "cell_type": "code",
   "execution_count": null,
   "id": "a33c4d4f",
   "metadata": {},
   "outputs": [],
   "source": [
    "X_train"
   ]
  },
  {
   "cell_type": "markdown",
   "id": "fe493308",
   "metadata": {},
   "source": [
    "neg_mean_absolute_error"
   ]
  },
  {
   "cell_type": "code",
   "execution_count": null,
   "id": "4411f3e8",
   "metadata": {},
   "outputs": [],
   "source": [
    "selected_features = [\n",
    "    'Mileage',\n",
    "    'Power',\n",
    "    'Condition_Używane',\n",
    "    'Gearbox_Manualna',\n",
    "    'Fuel_type_Benzyna',\n",
    "    'Fuel_type_Diesel',\n",
    "    'Fuel_type_Elektryczny',\n",
    "    'Body_type_SUV',\n",
    "    'Body_type_Minivan',\n",
    "    'Number_of_doors_2.0'\n",
    "]"
   ]
  },
  {
   "cell_type": "code",
   "execution_count": null,
   "id": "2d198495",
   "metadata": {},
   "outputs": [],
   "source": [
    "selected_features"
   ]
  },
  {
   "cell_type": "code",
   "execution_count": null,
   "id": "67b63d6e",
   "metadata": {},
   "outputs": [],
   "source": [
    "X_train_copy = X_train.copy()"
   ]
  },
  {
   "cell_type": "code",
   "execution_count": null,
   "id": "3923be49",
   "metadata": {},
   "outputs": [],
   "source": [
    "X_train = X_train[selected_features]\n",
    "X_val = X_val[selected_features]\n",
    "X_test = X_test[selected_features]"
   ]
  },
  {
   "cell_type": "code",
   "execution_count": null,
   "id": "274c7f8b",
   "metadata": {},
   "outputs": [],
   "source": [
    "X_train"
   ]
  },
  {
   "cell_type": "code",
   "execution_count": null,
   "id": "6e139344",
   "metadata": {},
   "outputs": [],
   "source": [
    "loaded_model = XGBRegressor()\n",
    "loaded_model.load_model('/home/konradballegro/notebooks/outputs/models/xgb_model.model')"
   ]
  },
  {
   "cell_type": "code",
   "execution_count": null,
   "id": "f91d917c",
   "metadata": {},
   "outputs": [],
   "source": [
    "# Use the loaded model for predictions\n",
    "y_pred = loaded_model.predict(X_test)"
   ]
  },
  {
   "cell_type": "code",
   "execution_count": null,
   "id": "a2004ac7",
   "metadata": {},
   "outputs": [],
   "source": [
    "# Evaluate the model using mean squared error\n",
    "mse = mean_squared_error(y_test, y_pred)\n",
    "print(\"Mean Squared Error:\", mse)"
   ]
  },
  {
   "cell_type": "code",
   "execution_count": null,
   "id": "8af91ccd",
   "metadata": {},
   "outputs": [],
   "source": [
    "from explainerdashboard import RegressionExplainer"
   ]
  }
 ],
 "metadata": {
  "kernelspec": {
   "display_name": "Python 3 (ipykernel)",
   "language": "python",
   "name": "python3"
  },
  "language_info": {
   "codemirror_mode": {
    "name": "ipython",
    "version": 3
   },
   "file_extension": ".py",
   "mimetype": "text/x-python",
   "name": "python",
   "nbconvert_exporter": "python",
   "pygments_lexer": "ipython3",
   "version": "3.8.10"
  }
 },
 "nbformat": 4,
 "nbformat_minor": 5
}
