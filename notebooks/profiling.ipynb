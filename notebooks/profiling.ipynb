{
 "cells": [
  {
   "cell_type": "code",
   "execution_count": 93,
   "id": "b3474086",
   "metadata": {},
   "outputs": [],
   "source": [
    "import os\n",
    "import pyspark\n",
    "from pyspark.sql import SparkSession\n",
    "from pyspark.sql.functions import col, regexp_replace, when"
   ]
  },
  {
   "cell_type": "code",
   "execution_count": 94,
   "id": "37838b70",
   "metadata": {},
   "outputs": [],
   "source": [
    "from ydata_profiling import ProfileReport"
   ]
  },
  {
   "cell_type": "code",
   "execution_count": 95,
   "id": "ce1d9bbd",
   "metadata": {},
   "outputs": [
    {
     "data": {
      "text/plain": [
       "'3.3.2'"
      ]
     },
     "execution_count": 95,
     "metadata": {},
     "output_type": "execute_result"
    }
   ],
   "source": [
    "pyspark.__version__"
   ]
  },
  {
   "cell_type": "code",
   "execution_count": 96,
   "id": "34e776a7",
   "metadata": {},
   "outputs": [
    {
     "name": "stdout",
     "output_type": "stream",
     "text": [
      "23/06/20 20:48:14 WARN SparkSession: Using an existing Spark session; only runtime SQL configurations will take effect.\n"
     ]
    }
   ],
   "source": [
    "spark = SparkSession.builder \\\n",
    "    .master(\"local[*]\") \\\n",
    "    .appName('profiling') \\\n",
    "    .getOrCreate()"
   ]
  },
  {
   "cell_type": "code",
   "execution_count": 97,
   "id": "3febe119",
   "metadata": {},
   "outputs": [
    {
     "name": "stderr",
     "output_type": "stream",
     "text": [
      "                                                                                \r"
     ]
    }
   ],
   "source": [
    "df = spark.read \\\n",
    "    .option(\"header\", \"true\") \\\n",
    "    .option(\"inferSchema\", \"True\") \\\n",
    "    .csv(\"/home/konradballegro/scripts/scraper/outputs/data/offers.csv\")"
   ]
  },
  {
   "cell_type": "code",
   "execution_count": 98,
   "id": "78699d45",
   "metadata": {},
   "outputs": [
    {
     "name": "stdout",
     "output_type": "stream",
     "text": [
      "Number of rows:  129589\n",
      "Number of columns:  230\n"
     ]
    },
    {
     "name": "stderr",
     "output_type": "stream",
     "text": [
      "\r",
      "[Stage 44:==============>                                           (1 + 3) / 4]\r",
      "\r",
      "                                                                                \r"
     ]
    }
   ],
   "source": [
    "# Count the number of rows in the DataFrame\n",
    "num_rows = df.count()\n",
    "\n",
    "# Count the number of columns in the DataFrame\n",
    "num_cols = len(df.columns)\n",
    "\n",
    "# Print the shape of the DataFrame\n",
    "print(\"Number of rows: \", num_rows)\n",
    "print(\"Number of columns: \", num_cols)"
   ]
  },
  {
   "cell_type": "code",
   "execution_count": 99,
   "id": "3ed29c21",
   "metadata": {},
   "outputs": [
    {
     "name": "stdout",
     "output_type": "stream",
     "text": [
      "0: Offer from\n",
      "1: Category\n",
      "2: Show offers with VIN number\n",
      "3: Has registration number\n",
      "4: Vehicle brand\n",
      "5: Vehicle model\n",
      "6: Version\n",
      "7: Generation\n",
      "8: Year of production\n",
      "9: Mileage\n",
      "10: Engine capacity\n",
      "11: Fuel type\n",
      "12: Power\n",
      "13: Gearbox\n",
      "14: Range\n",
      "15: Drive\n",
      "16: Battery capacity\n",
      "17: Battery ownership type\n",
      "18: CO2 emissions\n",
      "19: Particulate filter\n",
      "20: City fuel consumption\n",
      "21: Body type\n",
      "22: Number of doors\n",
      "23: Number of seats\n",
      "24: Color\n",
      "25: Metallic\n",
      "26: Color type\n",
      "27: Right-hand drive (Anglik)\n",
      "28: Country of origin\n",
      "29: Leasing\n",
      "30: VAT margin\n",
      "31: VAT invoice\n",
      "32: Manufacturer warranty period\n",
      "33: Financing possibility\n",
      "34: First registration\n",
      "35: Registered in Poland\n",
      "36: First owner\n",
      "37: Accident-free\n",
      "38: Serviced at authorized service center\n",
      "39: Condition\n",
      "40: ABS\n",
      "41: Apple CarPlay\n",
      "42: Android Auto\n",
      "43: Rear side airbags43\n",
      "44: Driver side airbag\n",
      "45: CD\n",
      "46: Central locking\n",
      "47: Electric front windows\n",
      "48: Electrically adjustable passenger seat\n",
      "49: Electrically adjustable mirrors\n",
      "50: Immobilizer\n",
      "51: Driver airbag\n",
      "52: Passenger airbag\n",
      "53: Factory radio\n",
      "54: Power steering\n",
      "55: Alarm\n",
      "56: Alloy wheels\n",
      "57: ASR (traction control)\n",
      "58: Rear cross-traffic alert\n",
      "59: Parking assistant\n",
      "60: City emergency braking assistant\n",
      "61: Brake Assist\n",
      "62: Active lane change assistant\n",
      "63: Traffic jam assistant\n",
      "64: Active speed limit recognition\n",
      "65: Blind spot assistant (sensor)\n",
      "66: Adaptive headlights\n",
      "67: Intersection collision prevention assistant\n",
      "68: Lane keeping assistant\n",
      "69: Automatic descent control\n",
      "70: Front side airbags70\n",
      "71: Digital key\n",
      "72: Rain sensor\n",
      "73: Blind spot sensor\n",
      "74: Dusk sensor\n",
      "75: Front parking sensors\n",
      "76: Rear parking sensors\n",
      "77: Panoramic roof\n",
      "78: Electrically operated roof\n",
      "79: Internet access\n",
      "80: Dynamic cornering lights\n",
      "81: Gear shift lever finished in leather\n",
      "82: Touchscreen\n",
      "83: Electrochromic side mirrors\n",
      "84: Electrochromic rearview mirror\n",
      "85: Electric rear windows\n",
      "86: Electrically adjustable seats\n",
      "87: Electric parking brake\n",
      "88: Electronic brake force distribution system\n",
      "89: Electronic tire pressure control\n",
      "90: Electronic suspension adjustment\n",
      "91: Electrically adjustable driver's seat\n",
      "92: ESP\n",
      "93: Alloy wheels from 21 inches\n",
      "94: Alloy wheels 19 inches\n",
      "95: Ventilated front seats\n",
      "96: Front seats with massage function\n",
      "97: Fast charging function\n",
      "98: AUX socket\n",
      "99: SD card socket\n",
      "100: USB socket\n",
      "101: Tow hitch\n",
      "102: Ceramic composite brakes\n",
      "103: HUD (Head-Up Display)\n",
      "104: Bluetooth interface\n",
      "105: Isofix\n",
      "106: Charging cable\n",
      "107: 360 panoramic camera\n",
      "108: Reversing camera\n",
      "109: Rear parking camera\n",
      "110: Side mirror camera\n",
      "111: Steering wheel audio controls\n",
      "112: Leather steering wheel\n",
      "113: Multifunction steering wheel113\n",
      "114: Sports steering wheel\n",
      "115: Heated steering wheel\n",
      "116: Automatic air conditioning\n",
      "117: Four-zone air conditioning\n",
      "118: Automatic air conditioning: 3-zone\n",
      "119: Dual-zone air conditioning\n",
      "120: Automatic air conditioning, dual-zone\n",
      "121: Automatic air conditioning: 4 or more zones\n",
      "122: Manual air conditioning\n",
      "123: Rear passenger air conditioning\n",
      "124: On-board computer\n",
      "125: Traction control\n",
      "126: Distance control from the preceding vehicle\n",
      "127: Rear distance control (parking)\n",
      "128: Front distance control (parking)\n",
      "129: Front air curtains\n",
      "130: Rear air curtains\n",
      "131: Keyless Go\n",
      "132: Keyless entry\n",
      "133: Lane assist - lane change control\n",
      "134: LED taillights\n",
      "135: LED headlights\n",
      "136: Bi-xenon headlights\n",
      "137: Xenon headlights\n",
      "138: Cornering lights\n",
      "139: Fog lights139\n",
      "140: LED fog lights\n",
      "141: Electrically adjustable side mirrors\n",
      "142: Electrically folding side mirrors\n",
      "143: Wireless device charging\n",
      "144: Gear shift paddles\n",
      "145: MP3\n",
      "146: GPS navigation\n",
      "147: Independent parking system\n",
      "148: DVD player\n",
      "149: Speed limiter\n",
      "150: Auxiliary heating\n",
      "151: Heated rear seats151\n",
      "152: Runflat tires\n",
      "153: Summer tires\n",
      "154: All-season tires\n",
      "155: Home lighting feature\n",
      "156: LED interior lighting\n",
      "157: Adaptive lighting\n",
      "158: Park Assistant - parking assistant\n",
      "159: Heated front windshield\n",
      "160: Heated side mirrors\n",
      "161: Heated front seats\n",
      "162: Heated rear seats162\n",
      "163: Front armrests\n",
      "164: Rear armrests\n",
      "165: Knee airbag\n",
      "166: Front side airbags166\n",
      "167: Rear side airbags167\n",
      "168: Central airbag\n",
      "169: Driver's knee airbag\n",
      "170: Passenger's knee airbag\n",
      "171: Rear seat belt airbags\n",
      "172: Heated passenger seat\n",
      "173: Tinted windows\n",
      "174: Tinted rear windows\n",
      "175: Non-factory radio\n",
      "176: Radio\n",
      "177: Adjustable suspension177\n",
      "178: Electric lumbar support adjustment - driver\n",
      "179: Electric lumbar support adjustment - passenger\n",
      "180: Roof rails\n",
      "181: Manually retractable side window blinds\n",
      "182: Memory seat\n",
      "183: Sports seats - front\n",
      "184: Headlight washers\n",
      "185: Voice-controlled vehicle functions\n",
      "186: Collision mitigation system\n",
      "187: Brake assist system\n",
      "188: Collision warning system\n",
      "189: Route break recommendation system\n",
      "190: Accident notification system\n",
      "191: Start/Stop system\n",
      "192: Satellite navigation system\n",
      "193: Energy recovery system\n",
      "194: Sound system\n",
      "195: Emergency braking system for pedestrian protection\n",
      "196: Traffic sign recognition system\n",
      "197: Sunroof\n",
      "198: Electric sliding and tilting glass sunroof\n",
      "199: Daytime running lights\n",
      "200: LED lights\n",
      "201: LED daytime running lights\n",
      "202: Fog lights202\n",
      "203: Xenon lights\n",
      "204: Leather upholstery\n",
      "205: Alcantara upholstery\n",
      "206: Velour upholstery\n",
      "207: Cruise control\n",
      "208: Active cruise control\n",
      "209: Adaptive cruise control (ACC)\n",
      "210: TV tuner\n",
      "211: Keyless engine start\n",
      "212: Multifunction steering wheel212\n",
      "213: Wipers\n",
      "214: Hill Holder - uphill assist\n",
      "215: Head-Up display\n",
      "216: CD changer\n",
      "217: Sports suspension\n",
      "218: Comfort suspension\n",
      "219: Air suspension\n",
      "220: Adjustable suspension220\n",
      "221: External wrapping\n",
      "222: Hands-free kit\n",
      "223: Paddle shifters\n",
      "224: Price\n",
      "225: Price details\n",
      "226: Currency\n",
      "227: URL path\n",
      "228: ID\n",
      "229: Epoch\n"
     ]
    }
   ],
   "source": [
    "headers = df.columns\n",
    "for h, head in enumerate(headers):\n",
    "    print(f\"{h}: {head}\")"
   ]
  },
  {
   "cell_type": "code",
   "execution_count": 100,
   "id": "18ad6859",
   "metadata": {},
   "outputs": [],
   "source": [
    "# # Sample 20% of the rows without replacement\n",
    "# sampled_df = df.sample(withReplacement=False, fraction=0.2)"
   ]
  },
  {
   "cell_type": "code",
   "execution_count": 101,
   "id": "4871bae3",
   "metadata": {},
   "outputs": [],
   "source": [
    "# # Count the number of rows in the DataFrame\n",
    "# num_rows = sampled_df.count()\n",
    "\n",
    "# # Count the number of columns in the DataFrame\n",
    "# num_cols = len(sampled_df.columns)\n",
    "\n",
    "# # Print the shape of the DataFrame\n",
    "# print(\"Number of rows: \", num_rows)\n",
    "# print(\"Number of columns: \", num_cols)"
   ]
  },
  {
   "cell_type": "code",
   "execution_count": 102,
   "id": "c019c0ff",
   "metadata": {},
   "outputs": [],
   "source": [
    "# profile_sample = ProfileReport(sampled_df.toPandas(), tsmode=False, title=\"Pandas Profiling Report Sample Data\")"
   ]
  },
  {
   "cell_type": "code",
   "execution_count": 103,
   "id": "ab52c3c2",
   "metadata": {},
   "outputs": [],
   "source": [
    "# profile_sample.to_file(\"/home/konradballegro/notebooks/outputs/reports/profiling_sample.html\")"
   ]
  },
  {
   "cell_type": "code",
   "execution_count": 104,
   "id": "e3d48cc8",
   "metadata": {},
   "outputs": [],
   "source": [
    "profile_filtered = df.filter((df[\"Currency\"] == \"PLN\") &\n",
    "                        (df[\"Country of origin\"] == \"Polska\") &\n",
    "                        (df[\"Accident-free\"].isNotNull()) &\n",
    "                        (df[\"Price\"].isNotNull()) &\n",
    "                        (df[\"Offer from\"].isNotNull()) &\n",
    "                        (df[\"Condition\"].isNotNull()) &\n",
    "                        (df[\"Vehicle brand\"].isNotNull()) &\n",
    "                        (df[\"Vehicle model\"].isNotNull()) &\n",
    "                        (df[\"Year of production\"].isNotNull()) &\n",
    "                        (df[\"Mileage\"].isNotNull()) &\n",
    "                        (df[\"Fuel type\"].isNotNull()) &\n",
    "                        (df[\"Power\"].isNotNull()) &\n",
    "                        (df[\"Gearbox\"].isNotNull()) &\n",
    "                        (df[\"Body type\"].isNotNull()) &\n",
    "                        (df[\"Number of doors\"].isNotNull())\n",
    "                       ).select(col(\"Price\").cast(\"float\").alias(\"Price\"),\n",
    "                                \"Offer from\",\n",
    "                                \"Condition\",\n",
    "                                \"Vehicle brand\",\n",
    "                                \"Vehicle model\",\n",
    "                                col(\"Year of production\").cast(\"string\").alias(\"Year of production\"),\n",
    "                                regexp_replace(regexp_replace(col(\"Mileage\"), \" \", \"\"), \"km\", \"\").cast(\"float\").alias(\"Mileage\"),\n",
    "                                \"Fuel type\",\n",
    "                                regexp_replace(regexp_replace(col(\"Power\"), \" \", \"\"), \"KM\", \"\").cast(\"integer\").alias(\"Power\"),\n",
    "                                \"Gearbox\",\n",
    "                                \"Body type\",\n",
    "                                \"Number of doors\",\n",
    "                                \"URL path\",\n",
    "                                \"ID\",\n",
    "                                \"Epoch\"\n",
    "                               )"
   ]
  },
  {
   "cell_type": "code",
   "execution_count": 105,
   "id": "b5457dde",
   "metadata": {},
   "outputs": [],
   "source": [
    "profile_filtered = profile_filtered.filter(profile_filtered[\"Price\"].isNotNull())"
   ]
  },
  {
   "cell_type": "code",
   "execution_count": 106,
   "id": "19351a6d",
   "metadata": {},
   "outputs": [
    {
     "name": "stderr",
     "output_type": "stream",
     "text": [
      "                                                                                \r"
     ]
    }
   ],
   "source": [
    "profile_filtered = ProfileReport(profile_filtered.toPandas(), tsmode=False, title=\"Pandas Profiling Report filtered data\")"
   ]
  },
  {
   "cell_type": "code",
   "execution_count": 107,
   "id": "05ba9f15",
   "metadata": {},
   "outputs": [
    {
     "name": "stderr",
     "output_type": "stream",
     "text": [
      "Summarize dataset: 100%|█| 40/40 [00:12<00:00, \n",
      "Generate report structure: 100%|█| 1/1 [00:09<0\n",
      "Render HTML: 100%|█| 1/1 [00:01<00:00,  1.14s/i\n",
      "Export report to file: 100%|█| 1/1 [00:00<00:00\n"
     ]
    }
   ],
   "source": [
    "profile_filtered.to_file(\"/home/konradballegro/notebooks/outputs/reports/profiling_filtered.html\")"
   ]
  },
  {
   "cell_type": "code",
   "execution_count": null,
   "id": "bec7f808",
   "metadata": {},
   "outputs": [],
   "source": []
  }
 ],
 "metadata": {
  "kernelspec": {
   "display_name": "Python 3 (ipykernel)",
   "language": "python",
   "name": "python3"
  },
  "language_info": {
   "codemirror_mode": {
    "name": "ipython",
    "version": 3
   },
   "file_extension": ".py",
   "mimetype": "text/x-python",
   "name": "python",
   "nbconvert_exporter": "python",
   "pygments_lexer": "ipython3",
   "version": "3.8.10"
  }
 },
 "nbformat": 4,
 "nbformat_minor": 5
}
